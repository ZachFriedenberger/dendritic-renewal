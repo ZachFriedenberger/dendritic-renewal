{
 "cells": [
  {
   "cell_type": "code",
   "execution_count": 16,
   "id": "81cf5710",
   "metadata": {},
   "outputs": [],
   "source": [
    "import h5py\n",
    "import numpy as np\n",
    "import matplotlib.pyplot as plt\n",
    "import seaborn as sns\n",
    "import re\n",
    "from scipy.signal import find_peaks\n",
    "from scipy import signal as ss\n",
    "import pandas as pd\n",
    "\n",
    "plt.rcParams.update({'font.size': 8})\n",
    "from scipy import stats\n",
    "\n",
    "import matplotlib\n",
    "\n",
    "plt.rcParams.update({'font.size': 8})\n",
    "\n",
    "new_rc_params = {'text.usetex': False,\n",
    "\"svg.fonttype\": 'none'\n",
    "}\n",
    "\n",
    "matplotlib.rcParams.update(new_rc_params)\n",
    "\n",
    "def save_plot_data_csv(data_frame, filename):\n",
    "    data_frame.to_csv('../data/' + filename, index=False)\n",
    "    return"
   ]
  },
  {
   "cell_type": "code",
   "execution_count": 2,
   "id": "d27c558f",
   "metadata": {},
   "outputs": [],
   "source": [
    "def load_data(filename):\n",
    "    \n",
    "    f = h5py.File(filename, 'r')\n",
    "    data = f['Packed Data']\n",
    "   \n",
    "    return data\n",
    "\n",
    "def spike_detection(signal):\n",
    "    dt = 5e-5\n",
    "    time = np.arange(len(signal))*dt\n",
    "    spike_threshold = -10*10**(-3) \n",
    "    # need to check that this is okay on all the experiments...\n",
    "\n",
    "    spike_mask, spike_dict = find_peaks(signal,height=spike_threshold, prominence=1*10**(-3))\n",
    "    spike_times = time[spike_mask]\n",
    "    \n",
    "    return spike_times, time\n",
    "\n",
    "def remove_bursts(spike_times, keep_first_spike=True):\n",
    "    burst_removed = []\n",
    "    last_spike_time = None\n",
    "    burst_spike_time = None\n",
    "    \n",
    "    for spike_time in spike_times:\n",
    "        if last_spike_time is None:\n",
    "            last_spike_time = spike_time\n",
    "            burst_removed.append(spike_time)\n",
    "        else:\n",
    "            inter_event_interval = spike_time - last_spike_time\n",
    "            if inter_event_interval >= 25e-3:\n",
    "                burst_removed.append(spike_time)\n",
    "                last_spike_time = spike_time\n",
    "            elif burst_spike_time is None: \n",
    "                burst_spike_time = last_spike_time\n",
    "                \n",
    "    \n",
    "    return burst_removed\n",
    "\n",
    "\n",
    "def ISI(spike_times):\n",
    "    isi = np.diff(spike_times)\n",
    "    return isi\n",
    "\n",
    "def response_statistics(isi_distribution):\n",
    "    \n",
    "    mu = np.mean(isi_distribution)\n",
    "    sigma = np.std(isi_distribution)\n",
    "    \n",
    "    cv = sigma/mu\n",
    "    firing_rate = 1/mu\n",
    "    \n",
    "    return firing_rate, cv\n",
    "\n",
    "def bootstrap_response_statistics_error(isi_distribution):\n",
    "    \n",
    "    nb_samples = 10000\n",
    "    isi_length = len(isi_distribution)\n",
    "    \n",
    "    FR_bootstrap = np.zeros(nb_samples)\n",
    "    CV_bootstrap = np.zeros(nb_samples)\n",
    "    \n",
    "    for i in range(nb_samples):\n",
    "        data_sample = np.random.choice(isi_distribution, size=isi_length)\n",
    "        firing_rate, cv= response_statistics(data_sample)\n",
    "        \n",
    "        FR_bootstrap[i] = firing_rate\n",
    "        CV_bootstrap[i] = cv\n",
    "        \n",
    "    firing_rate_error = np.std(FR_bootstrap)\n",
    "    cv_error = np.std(CV_bootstrap)\n",
    "    \n",
    "    return firing_rate_error, cv_error"
   ]
  },
  {
   "cell_type": "code",
   "execution_count": 3,
   "id": "051ac98c",
   "metadata": {},
   "outputs": [],
   "source": [
    "f = h5py.File('../data/CA1dataAnes/121027_2.h5xp', 'r')"
   ]
  },
  {
   "cell_type": "code",
   "execution_count": 4,
   "id": "7fe8e7f1",
   "metadata": {},
   "outputs": [
    {
     "data": {
      "text/plain": [
       "<HDF5 file \"121027_2.h5xp\" (mode r)>"
      ]
     },
     "execution_count": 4,
     "metadata": {},
     "output_type": "execute_result"
    }
   ],
   "source": [
    "f"
   ]
  },
  {
   "cell_type": "code",
   "execution_count": 5,
   "id": "7d9f34fb",
   "metadata": {},
   "outputs": [
    {
     "data": {
      "text/plain": [
       "['History',\n",
       " 'Miscellaneous',\n",
       " 'Packed Data',\n",
       " 'Packed Procedure Files',\n",
       " 'Recreation']"
      ]
     },
     "execution_count": 5,
     "metadata": {},
     "output_type": "execute_result"
    }
   ],
   "source": [
    "list(f.keys())"
   ]
  },
  {
   "cell_type": "code",
   "execution_count": 6,
   "id": "ac4709bb",
   "metadata": {},
   "outputs": [],
   "source": [
    "data = f['Packed Data']"
   ]
  },
  {
   "cell_type": "code",
   "execution_count": 7,
   "id": "e996aec4",
   "metadata": {},
   "outputs": [
    {
     "name": "stdout",
     "output_type": "stream",
     "text": [
      "['Pulse_4_1_1' 'Pulse_4_2_1' 'Pulse_4_3_1' 'Pulse_4_4_1' 'Pulse_4_5_1'\n",
      " 'Pulse_6_1_1' 'Pulse_6_2_1' 'Pulse_6_3_1' 'Pulse_6_4_1' 'Pulse_6_5_1'\n",
      " 'Pulse_7_1_1' 'Pulse_7_2_1' 'Pulse_7_3_1' 'Pulse_7_4_1' 'Pulse_7_5_1'\n",
      " 'WaveSkip' 'stimString' 'pptLastPulseWave' 'CurrentPrefix' 'Xwave'\n",
      " 'WinGlobals' 'Packages' 'Pulse_6' 'Pulse_8' 'Pulse_1' 'Pulse_2' 'Pulse_3'\n",
      " 'Pulse_4' 'ChanA']\n"
     ]
    }
   ],
   "source": [
    "keys_view = data.keys()\n",
    "keys_array = np.array(list(keys_view))\n",
    "print(keys_array)"
   ]
  },
  {
   "cell_type": "code",
   "execution_count": 8,
   "id": "acf874dc",
   "metadata": {},
   "outputs": [
    {
     "name": "stdout",
     "output_type": "stream",
     "text": [
      "['Pulse_7_1_1', 'Pulse_7_2_1', 'Pulse_7_3_1', 'Pulse_7_4_1', 'Pulse_7_5_1']\n"
     ]
    }
   ],
   "source": [
    "sweep_number = 7\n",
    "\n",
    "# Select elements where the first number matches the reference number\n",
    "selected_elements = [s for s in keys_array if re.match(r'^\\w+_(\\d+)_\\d+_\\d+$', s) and int(s.split('_')[1]) == sweep_number]\n",
    "# Print the selected elements\n",
    "print(selected_elements)"
   ]
  },
  {
   "cell_type": "code",
   "execution_count": 9,
   "id": "2ff72572",
   "metadata": {
    "scrolled": true
   },
   "outputs": [
    {
     "data": {
      "image/png": "[encoded data removed]",
      "text/plain": [
       "<Figure size 1000x300 with 1 Axes>"
      ]
     },
     "metadata": {},
     "output_type": "display_data"
    }
   ],
   "source": [
    "dt = 5e-5\n",
    "plt.figure(figsize=(10,3))\n",
    "for pulse_number in selected_elements:\n",
    "\n",
    "    pulse = data[pulse_number]\n",
    "    time = np.arange(len(pulse[:]))*dt\n",
    "\n",
    "    plt.plot(time, pulse[:]*10**3)\n",
    "    \n",
    "plt.xlabel('Time [s]')\n",
    "plt.ylabel('Voltage [mV]')\n",
    "\n",
    "sns.despine()"
   ]
  },
  {
   "cell_type": "code",
   "execution_count": 10,
   "id": "4cf5234b",
   "metadata": {
    "scrolled": true
   },
   "outputs": [
    {
     "name": "stdout",
     "output_type": "stream",
     "text": [
      "[0.1272, 0.15295, 0.97675, 1.0092, 1.11765, 2.11645, 3.2329000000000003, 3.78905, 4.58965, 4.654100000000001, 4.77235, 5.57965, 6.1265, 6.2860000000000005, 6.72505, 7.46365, 8.2066, 9.4832, 10.132950000000001, 11.9741, 12.1163, 13.43945, 15.394, 15.491200000000001, 16.732300000000002, 17.3463, 19.4828, 20.165750000000003, 20.6033, 21.22195, 22.00395, 22.044050000000002, 23.079050000000002, 23.153200000000002, 23.39235, 23.517100000000003, 24.82565, 24.887, 25.2037, 25.776600000000002, 25.8245, 25.95925, 26.310450000000003, 28.0671, 28.156100000000002, 28.248250000000002, 29.19405, 29.221700000000002]\n"
     ]
    },
    {
     "data": {
      "text/plain": [
       "(11.9, 12.3)"
      ]
     },
     "execution_count": 10,
     "metadata": {},
     "output_type": "execute_result"
    },
    {
     "data": {
      "image/png": "[encoded data removed]",
      "text/plain": [
       "<Figure size 1000x300 with 1 Axes>"
      ]
     },
     "metadata": {},
     "output_type": "display_data"
    }
   ],
   "source": [
    "# code to extract the spiketimes\n",
    "example_pulse = 'Pulse_7_1_1'\n",
    "pulse = data[example_pulse]\n",
    "signal = pulse[:]\n",
    "spike_times, time = spike_detection(signal)\n",
    "\n",
    "spike_times_no_burst = remove_bursts(spike_times, keep_first_spike=False)\n",
    "\n",
    "print(spike_times_no_burst)\n",
    "# Plot the results\n",
    "plt.figure(figsize=(10,3))\n",
    "plt.plot(time, signal*10**3)\n",
    "plt.plot(spike_times, np.ones(len(spike_times))*45, '.', ms=10, color='tab:red')\n",
    "plt.plot(spike_times_no_burst, np.ones(len(spike_times_no_burst))*50, '.', ms=10, color='tab:orange')\n",
    "\n",
    "plt.xlabel('Time [s]')\n",
    "plt.ylabel('Voltage [mV]')\n",
    "sns.despine()\n",
    "plt.xlim([11.9,12.3])\n"
   ]
  },
  {
   "cell_type": "code",
   "execution_count": 14,
   "id": "ef4829dd",
   "metadata": {},
   "outputs": [
    {
     "name": "stdout",
     "output_type": "stream",
     "text": [
      "600000\n"
     ]
    },
    {
     "data": {
      "image/png": "[encoded data removed]",
      "text/plain": [
       "<Figure size 100x50 with 1 Axes>"
      ]
     },
     "metadata": {},
     "output_type": "display_data"
    }
   ],
   "source": [
    "f = h5py.File('../data/CA1dataAnes/121027_2.h5xp', 'r')\n",
    "data = f['Packed Data']\n",
    "example_pulse = 'Pulse_7_2_1'\n",
    "pulse = data[example_pulse]\n",
    "signal = pulse[:]\n",
    "spike_times, time = spike_detection(signal)\n",
    "\n",
    "f = h5py.File('../data/CA1dataAnes/130114_2.h5xp', 'r')\n",
    "example_pulse = 'Pulse_5_4_1'\n",
    "data = f['Packed Data']\n",
    "pulse = data[example_pulse]\n",
    "signal2 = pulse[:]\n",
    "spike_times, time = spike_detection(signal)\n",
    "\n",
    "time_length = len(time)\n",
    "dt = time[1]-time[0]\n",
    "print(time_length)\n",
    "max_time = int(9.4/dt)\n",
    "min_time = int(9.25/dt)\n",
    "# Plot the results\n",
    "plt.figure(figsize=(1, 0.5))\n",
    "plt.plot(time[min_time:max_time], signal[min_time:max_time]*10**3, label='Control')\n",
    "plt.plot(time[min_time:max_time], signal2[min_time:max_time]*10**3, label='MK-801')\n",
    "sns.despine()\n",
    "\n",
    "plt.legend(frameon=False)\n",
    "plt.savefig('../results/figure2_e.svg')"
   ]
  },
  {
   "cell_type": "markdown",
   "id": "c5146089",
   "metadata": {},
   "source": [
    "Each neuron in the above plot had 100 pA injected"
   ]
  },
  {
   "cell_type": "code",
   "execution_count": 19,
   "id": "59592c2b",
   "metadata": {},
   "outputs": [],
   "source": [
    "data_frame = data_frame = pd.DataFrame({\"time\" : time[min_time:max_time], \"control\" : signal[min_time:max_time]*10**3, \"MK801\":signal2[min_time:max_time]*10**3})\n",
    "save_plot_data_csv(data_frame, filename='figure2_e.csv')"
   ]
  },
  {
   "cell_type": "code",
   "execution_count": 20,
   "id": "6c9e0225",
   "metadata": {},
   "outputs": [
    {
     "name": "stdout",
     "output_type": "stream",
     "text": [
      "[0.1272, 0.15295, 0.97675, 1.0092, 1.11765, 2.11645, 3.2329000000000003, 3.78905, 4.58965, 4.654100000000001, 4.77235, 5.57965, 6.1265, 6.2860000000000005, 6.72505, 7.46365, 8.2066, 9.4832, 10.132950000000001, 11.9741, 12.1163, 13.43945, 15.394, 15.491200000000001, 16.732300000000002, 17.3463, 19.4828, 20.165750000000003, 20.6033, 21.22195, 22.00395, 22.044050000000002, 23.079050000000002, 23.153200000000002, 23.39235, 23.517100000000003, 24.82565, 24.887, 25.2037, 25.776600000000002, 25.8245, 25.95925, 26.310450000000003, 28.0671, 28.156100000000002, 28.248250000000002, 29.19405, 29.221700000000002]\n"
     ]
    },
    {
     "data": {
      "image/png": "[encoded data removed]",
      "text/plain": [
       "<Figure size 150x50 with 1 Axes>"
      ]
     },
     "metadata": {},
     "output_type": "display_data"
    }
   ],
   "source": [
    "f = h5py.File('../data/CA1dataAnes/121027_2.h5xp', 'r')\n",
    "data = f['Packed Data']\n",
    "example_pulse = 'Pulse_7_1_1'\n",
    "pulse = data[example_pulse]\n",
    "signal = pulse[:]\n",
    "spike_times, time = spike_detection(signal)\n",
    "\n",
    "spike_times_no_burst = remove_bursts(spike_times, keep_first_spike=False)\n",
    "\n",
    "print(spike_times_no_burst)\n",
    "# Plot the results\n",
    "min_time = int(0.1/dt)\n",
    "max_time = int(0.2/dt)\n",
    "plt.figure(figsize=(1.5, 0.5))\n",
    "plt.plot(time[min_time:max_time], signal[min_time:max_time]*10**3)\n",
    "\n",
    "plt.xlabel('Time [s]')\n",
    "plt.ylabel('Voltage [mV]')\n",
    "sns.despine()"
   ]
  },
  {
   "cell_type": "code",
   "execution_count": 21,
   "id": "c108ea26",
   "metadata": {},
   "outputs": [],
   "source": [
    "# make dictionary with exp numbers and info\n",
    "# This was copied over from the data word doc in the zip file\n",
    "\n",
    "exp_meta_data = {} # make each key an experiment. \n",
    "\n",
    "exp_meta_data['Control'] = {}\n",
    "exp_meta_data['MK801'] = {}\n",
    "\n",
    "exp_meta_data['Control']['121027_2'] = {'sweep':[4,6,7], 'current':[0, 50, 100]}\n",
    "exp_meta_data['Control']['121207_2'] = {'sweep':[1,4,5], 'current':[0, 85, 132]}\n",
    "exp_meta_data['Control']['130814_1'] = {'sweep':[3,4,5], 'current':[0, 50, 100]}\n",
    "exp_meta_data['Control']['130815_1'] = {'sweep':[3,4], 'current':[0, 60]}\n",
    "exp_meta_data['Control']['130815b_1'] = {'sweep':[8,9], 'current':[0, 100]}\n",
    "\n",
    "exp_meta_data['MK801']['130114_2'] = {'sweep':[3,4,5], 'current':[0, 50, 100]}\n",
    "exp_meta_data['MK801']['131130_2'] = {'sweep':[7,8,9], 'current':[0, 50, 115]}\n",
    "exp_meta_data['MK801']['131130_4'] = {'sweep':[12,14,15], 'current':[0, 70, 120]}\n",
    "exp_meta_data['MK801']['131201_3'] = {'sweep':[12,14,15,16], 'current':[0, 50, 100, 150]}"
   ]
  },
  {
   "cell_type": "code",
   "execution_count": 22,
   "id": "6472720c",
   "metadata": {},
   "outputs": [
    {
     "name": "stdout",
     "output_type": "stream",
     "text": [
      "dict_keys(['121027_2', '121207_2', '130814_1', '130815_1', '130815b_1'])\n"
     ]
    }
   ],
   "source": [
    "exp_names = exp_meta_data['Control'].keys()\n",
    "print(exp_names)"
   ]
  },
  {
   "cell_type": "code",
   "execution_count": 23,
   "id": "ba0513cc",
   "metadata": {},
   "outputs": [],
   "source": [
    "# Loop through sweeps in an experiment and pool inter spike intervals\n",
    "exp_data = {}\n",
    "\n",
    "# Loop over conditions, Control and MK801\n",
    "for condition in exp_meta_data.keys():\n",
    "    exp_data[condition] = {}\n",
    "    \n",
    "    # Loop through experiments\n",
    "    for exp_name in exp_meta_data[condition].keys():\n",
    "        \n",
    "        filename = '../data/CA1dataAnes/' + exp_name + '.h5xp'\n",
    "        data = load_data(filename)\n",
    "        \n",
    "        # Get keys of data dictionary\n",
    "        keys_view = data.keys()\n",
    "        keys_array = np.array(list(keys_view))\n",
    "\n",
    "        sweep_numbers = exp_meta_data[condition][exp_name]['sweep']\n",
    "        current_numbers = exp_meta_data[condition][exp_name]['current']\n",
    "\n",
    "        # Create dict for saving pooled ISI distributions\n",
    "        exp_data[condition][exp_name] = {}\n",
    "\n",
    "        for i, sweep_number in enumerate(sweep_numbers): \n",
    "\n",
    "            current = current_numbers[i]\n",
    "\n",
    "            exp_data[condition][exp_name][sweep_number] = {'ISIs':[], 'current':current}\n",
    "\n",
    "\n",
    "            runs_in_sweep = [s for s in keys_array if re.match(r'^\\w+_(\\d+)_\\d+_\\d+$', s) and int(s.split('_')[1]) == sweep_number]\n",
    "            #print(runs_in_sweep)\n",
    "\n",
    "            # Loop through each run in the sweep and calculate the ISI\n",
    "            for run in runs_in_sweep: \n",
    "                #print(run)\n",
    "\n",
    "                signal = data[run][:]\n",
    "                spike_times, time = spike_detection(signal)\n",
    "                isi = ISI(spike_times)\n",
    "                \n",
    "                #print(f'EXP NAME: {exp_name}, SWEEP:{sweep_number}, RUN:{run}, NUM ISI: {len(isi)}')\n",
    "\n",
    "\n",
    "                exp_data[condition][exp_name][sweep_number]['ISIs'].append(isi)\n",
    "\n",
    "            exp_data[condition][exp_name][sweep_number]['ISIs'] = np.concatenate(exp_data[condition][exp_name][sweep_number]['ISIs'])\n",
    "\n",
    "    "
   ]
  },
  {
   "cell_type": "code",
   "execution_count": 24,
   "id": "f2501b22",
   "metadata": {},
   "outputs": [],
   "source": [
    "# combine isi's into single array\n",
    "\n",
    "response_data = {}\n",
    "\n",
    "# Loop over conditions, Control and MK801\n",
    "for condition in exp_data.keys():\n",
    "    response_data[condition] = {'firing_rate':[], 'cv':[], 'firing_rate_error':[], 'cv_error':[], 'current':[]}\n",
    "    \n",
    "    for exp_name in exp_data[condition]:\n",
    "        for sweep in exp_data[condition][exp_name]:\n",
    "            \n",
    "            response_data[condition]['current'].append(exp_data[condition][exp_name][sweep]['current'])\n",
    "            \n",
    "            isi = exp_data[condition][exp_name][sweep]['ISIs']\n",
    "            \n",
    "            if len(isi)>=30:\n",
    "                firing_rate, cv = response_statistics(isi)\n",
    "                firing_rate_error, cv_error = bootstrap_response_statistics_error(isi)\n",
    "                \n",
    "                response_data[condition]['firing_rate'].append(firing_rate)\n",
    "                response_data[condition]['cv'].append(cv)\n",
    "                \n",
    "                response_data[condition]['firing_rate_error'].append(firing_rate_error)\n",
    "                response_data[condition]['cv_error'].append(cv_error)\n",
    "                \n",
    "            else: \n",
    "                response_data[condition]['firing_rate'].append(np.nan)\n",
    "                response_data[condition]['cv'].append(np.nan)\n",
    "                response_data[condition]['firing_rate_error'].append(np.nan)\n",
    "                response_data[condition]['cv_error'].append(np.nan)"
   ]
  },
  {
   "cell_type": "code",
   "execution_count": 56,
   "id": "14c51300",
   "metadata": {},
   "outputs": [
    {
     "data": {
      "text/plain": [
       "[0, 50, 100, 0, 85, 132, 0, 50, 100, 0, 60, 0, 100]"
      ]
     },
     "execution_count": 56,
     "metadata": {},
     "output_type": "execute_result"
    }
   ],
   "source": [
    "response_data['Control']['current']"
   ]
  },
  {
   "cell_type": "code",
   "execution_count": 32,
   "id": "a17704a2",
   "metadata": {},
   "outputs": [
    {
     "data": {
      "image/png": "[encoded data removed]",
      "text/plain": [
       "<Figure size 170x150 with 1 Axes>"
      ]
     },
     "metadata": {},
     "output_type": "display_data"
    }
   ],
   "source": [
    "plt.rcParams.update({'font.size': 8})\n",
    "plt.figure(figsize=(1.7, 1.5))\n",
    "plt.scatter(response_data['Control']['firing_rate'], response_data['Control']['cv'], label='Control', s=15, color='tab:blue')\n",
    "plt.errorbar(response_data['Control']['firing_rate'], response_data['Control']['cv'], \n",
    "            yerr=response_data['Control']['cv_error'], xerr=response_data['Control']['firing_rate_error'], fmt='None', color='tab:blue')\n",
    "\n",
    "plt.scatter(response_data['MK801']['firing_rate'], response_data['MK801']['cv'], label='MK801', s=15, color='tab:red')\n",
    "plt.errorbar(response_data['MK801']['firing_rate'], response_data['MK801']['cv'], \n",
    "            yerr=response_data['MK801']['cv_error'], xerr=response_data['MK801']['firing_rate_error'], fmt='None', \n",
    "             color='tab:red')\n",
    "\n",
    "sns.despine()\n",
    "\n",
    "plt.ylabel(r'$C_{v}$')\n",
    "plt.xlabel('Frequency [Hz]')\n",
    "plt.xticks([0, 2.5, 5])\n",
    "plt.yticks([0, 2, 4])\n",
    "plt.ylim([0, 4])\n",
    "plt.tight_layout()\n",
    "plt.savefig('../results/figure2_h.svg')"
   ]
  },
  {
   "cell_type": "code",
   "execution_count": 33,
   "id": "df8f787d",
   "metadata": {},
   "outputs": [
    {
     "data": {
      "image/png": "[encoded data removed]",
      "text/plain": [
       "<Figure size 170x150 with 1 Axes>"
      ]
     },
     "metadata": {},
     "output_type": "display_data"
    }
   ],
   "source": [
    "plt.figure(figsize=(1.7, 1.5))\n",
    "plt.scatter(response_data['Control']['current'], response_data['Control']['cv'], label='Control', s=15, color='tab:blue')\n",
    "plt.errorbar(response_data['Control']['current'], response_data['Control']['cv'], \n",
    "             response_data['Control']['cv_error'], fmt='None', color='tab:blue')\n",
    "\n",
    "plt.scatter(response_data['MK801']['current'], response_data['MK801']['cv'], s=15, color='tab:red', label='MK801')\n",
    "plt.errorbar(response_data['MK801']['current'], response_data['MK801']['cv'], \n",
    "             response_data['MK801']['cv_error'], fmt='None', color='tab:red')\n",
    "\n",
    "plt.ylabel(r'$C_{v}$')\n",
    "plt.xlabel(r'$I_{s}$ [pA]')\n",
    "sns.despine()\n",
    "plt.yticks([0, 2, 4])\n",
    "plt.ylim([0, 4])\n",
    "plt.xlim([40, 160])\n",
    "plt.tight_layout()\n",
    "plt.savefig('../results/figure2_g.svg')"
   ]
  },
  {
   "cell_type": "code",
   "execution_count": 34,
   "id": "33dbf773",
   "metadata": {},
   "outputs": [
    {
     "data": {
      "image/png": "[encoded data removed]",
      "text/plain": [
       "<Figure size 170x150 with 1 Axes>"
      ]
     },
     "metadata": {},
     "output_type": "display_data"
    }
   ],
   "source": [
    "plt.figure(figsize=(1.7, 1.5))\n",
    "\n",
    "plt.scatter(response_data['Control']['current'], response_data['Control']['firing_rate'], \n",
    "            label='Control', s=15, color='tab:blue')\n",
    "\n",
    "plt.errorbar(response_data['Control']['current'], response_data['Control']['firing_rate'], \n",
    "             response_data['Control']['firing_rate_error'], fmt='None', color='tab:blue')\n",
    "\n",
    "\n",
    "plt.scatter(response_data['MK801']['current'], response_data['MK801']['firing_rate'], label='MK801', s=15, color='tab:red')\n",
    "plt.errorbar(response_data['MK801']['current'], response_data['MK801']['firing_rate'], \n",
    "             response_data['MK801']['firing_rate_error'], fmt='None', color='tab:red')\n",
    "\n",
    "plt.ylabel('Frequency [Hz]')\n",
    "plt.xlabel(r'$I_{s}$ [pA]')\n",
    "sns.despine()\n",
    "plt.ylim([0, 8])\n",
    "plt.yticks([0, 2.5, 5])\n",
    "#plt.legend()\n",
    "plt.xlim([40, 160])\n",
    "plt.tight_layout()\n",
    "plt.savefig('../results/figure2_f.svg')"
   ]
  },
  {
   "cell_type": "code",
   "execution_count": 44,
   "id": "f393601a",
   "metadata": {},
   "outputs": [
    {
     "name": "stdout",
     "output_type": "stream",
     "text": [
      "Control firing rate n=8\n",
      "Control cv n=8\n",
      "MK801 firing rate n=8\n",
      "MK801 cv n=8\n"
     ]
    }
   ],
   "source": [
    "# save source data\n",
    "\n",
    "# f-I plot\n",
    "data_frame = pd.DataFrame({\"Control_current\" : response_data['Control']['current'], \"Control_firing_rate\":response_data['Control']['firing_rate'],\n",
    "                          \"Control_cv\": response_data['Control']['cv'], \"Control_firing_rate_error\":response_data['Control']['firing_rate_error'],\n",
    "                         \"Control_cv_error\":response_data['Control']['cv_error']})\n",
    "\n",
    "save_plot_data_csv(data_frame, filename='figure2_control.csv')\n",
    "\n",
    "data_frame = pd.DataFrame({\"MK801_current\" : response_data['MK801']['current'], \"MK801_firing_rate\":response_data['MK801']['firing_rate'],\n",
    "                          \"MK801_cv\": response_data['MK801']['cv'], \"MK801_firing_rate_error\":response_data['MK801']['firing_rate_error'],\n",
    "                         \"MK801_cv_error\":response_data['MK801']['cv_error']})\n",
    "\n",
    "save_plot_data_csv(data_frame, filename='figure2_MK801.csv')\n",
    "\n",
    "\n",
    "n = np.sum(~np.isnan(response_data['Control']['firing_rate']))\n",
    "print(\"Control firing rate n=\" + str(n))\n",
    "\n",
    "n = np.sum(~np.isnan(response_data['Control']['cv']))\n",
    "print(\"Control cv n=\" + str(n))\n",
    "\n",
    "n = np.sum(~np.isnan(response_data['MK801']['firing_rate']))\n",
    "print(\"MK801 firing rate n=\" + str(n))\n",
    "\n",
    "n = np.sum(~np.isnan(response_data['MK801']['cv']))\n",
    "print(\"MK801 cv n=\" + str(n))\n"
   ]
  },
  {
   "cell_type": "markdown",
   "id": "12d0bd4c",
   "metadata": {},
   "source": [
    "# Statistical test"
   ]
  },
  {
   "cell_type": "code",
   "execution_count": 45,
   "id": "e96b03a0",
   "metadata": {},
   "outputs": [
    {
     "data": {
      "text/plain": [
       "0.009900403511728984"
      ]
     },
     "execution_count": 45,
     "metadata": {},
     "output_type": "execute_result"
    }
   ],
   "source": [
    "CV_Control = np.asarray(response_data['Control']['cv']).flatten()\n",
    "CV_MK801 = np.asarray(response_data['MK801']['cv']).flatten()\n",
    "\n",
    "statistic, p_value = stats.ttest_ind(np.asarray(CV_Control).flatten(), np.asarray(CV_MK801).flatten(), equal_var=False, nan_policy='omit')\n",
    "p_value"
   ]
  },
  {
   "cell_type": "code",
   "execution_count": 47,
   "id": "9fe4de6e",
   "metadata": {},
   "outputs": [
    {
     "data": {
      "image/png": "[encoded data removed]",
      "text/plain": [
       "<Figure size 60x35 with 1 Axes>"
      ]
     },
     "metadata": {},
     "output_type": "display_data"
    }
   ],
   "source": [
    "font = {'size'   : 5}\n",
    "matplotlib.rc('font', **font)\n",
    "\n",
    "plt.figure(figsize=(0.6, 0.35))\n",
    "\n",
    "CV_MK801 = CV_MK801[~np.isnan(CV_MK801)]\n",
    "CV_Control = CV_Control[~np.isnan(CV_Control)]\n",
    "\n",
    "data = [CV_Control, CV_MK801]\n",
    "boxplot_dict = plt.boxplot(data, flierprops={'markersize': 2})\n",
    "\n",
    "\n",
    "sns.despine()\n",
    "#plt.xlabel('$I_{d}$ [pA]')\n",
    "plt.ylabel('$C_{v}$')\n",
    "\n",
    "plt.ylim([0, 3.2])\n",
    "plt.yticks([0, 1.5, 3])\n",
    "plt.xticks([1,2], labels=['Control', 'MK-801'], rotation=45)\n",
    "#plt.xlim([-100, 800])\n",
    "#plt.tight_layout()\n",
    "\n",
    "plt.savefig('../results/figure2_g_inset.svg')"
   ]
  }
 ],
 "metadata": {
  "kernelspec": {
   "display_name": "Python 3 (ipykernel)",
   "language": "python",
   "name": "python3"
  },
  "language_info": {
   "codemirror_mode": {
    "name": "ipython",
    "version": 3
   },
   "file_extension": ".py",
   "mimetype": "text/x-python",
   "name": "python",
   "nbconvert_exporter": "python",
   "pygments_lexer": "ipython3",
   "version": "3.8.11"
  }
 },
 "nbformat": 4,
 "nbformat_minor": 5
}
