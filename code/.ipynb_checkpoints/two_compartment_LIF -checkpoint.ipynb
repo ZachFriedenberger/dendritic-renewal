{
 "cells": [
  {
   "cell_type": "code",
   "execution_count": 50,
   "id": "12a82f3d",
   "metadata": {},
   "outputs": [],
   "source": [
    "import numpy as np\n",
    "import matplotlib.pyplot as plt\n",
    "import pickle\n",
    "import seaborn as sns\n",
    "import matplotlib as mpl\n",
    "import pandas as pd\n",
    "from tqdm import trange\n",
    "\n",
    "\n",
    "plt.rcParams.update({'font.size': 8})\n",
    "\n",
    "new_rc_params = {'text.usetex': False,\n",
    "\"svg.fonttype\": 'none'\n",
    "}\n",
    "\n",
    "mpl.rcParams.update(new_rc_params)\n",
    "\n",
    "def save_plot_data_csv(data_frame, filename):\n",
    "    data_frame.to_csv('../data/' + filename, index=False)\n",
    "    return"
   ]
  },
  {
   "cell_type": "markdown",
   "id": "a0b5d7d3",
   "metadata": {},
   "source": [
    "# Simulate LIF with dendritic spikes\n",
    "\n",
    "This notebook reproduces Figure 1e-h. I did not fix a random seed for Figure 2d, so the exact dynamics will vary."
   ]
  },
  {
   "cell_type": "code",
   "execution_count": 3,
   "id": "4e85d860",
   "metadata": {},
   "outputs": [],
   "source": [
    "def LIF_dspikes(mu, sigma, dspike_mem, dspike_rate, dspike_length, nb_steps):\n",
    "    \n",
    "    dt = 1e-3\n",
    "    u = np.zeros(nb_steps)\n",
    "    ud = np.zeros(nb_steps)\n",
    "    spk = np.zeros(nb_steps)\n",
    "    u_thresh = 1\n",
    "    tau_m = 10*dt\n",
    "    \n",
    "    y = np.random.randn(nb_steps)\n",
    "    I = mu*np.ones(nb_steps)\n",
    "    t = np.zeros(nb_steps)\n",
    "    d = np.zeros(nb_steps)\n",
    "    count = 0\n",
    "    dspike_on = False\n",
    "    for i in range(nb_steps-1):\n",
    "            \n",
    "        if u[i] + ud[i]>=u_thresh:\n",
    "                spk[i] = 1\n",
    "                u[i+1] = 0\n",
    "                \n",
    "        else:\n",
    "            u[i+1] = u[i] + ((-u[i] + I[i])/tau_m)*dt + sigma*np.sqrt(dt)*y[i]\n",
    "        \n",
    "        # prob of observing a poisson spike\n",
    "        p = dspike_rate*dt\n",
    "        rnd = np.random.rand()\n",
    "    \n",
    "        if dspike_on == True: \n",
    "            d[i] = 1\n",
    "            count += 1\n",
    "            ud[i+1] = dspike_mem\n",
    "            \n",
    "        if rnd<p:\n",
    "            dspike_on = True\n",
    "            count = 0\n",
    "            \n",
    "        if count >= dspike_length: \n",
    "            dspike_on = False\n",
    "            \n",
    "        t[i] = i*dt   \n",
    "        \n",
    "    return u, ud, spk, t, I, d"
   ]
  },
  {
   "cell_type": "code",
   "execution_count": 4,
   "id": "aa91e266",
   "metadata": {},
   "outputs": [],
   "source": [
    "mu_vec = np.linspace(0.5, 1.25, 50)\n",
    "dspike_mem_vec = np.array([0.3])\n",
    "sigma = 1\n",
    "\n",
    "rate_vec = np.zeros((len(mu_vec), len(dspike_mem_vec)))\n",
    "cv_vec = np.zeros((len(mu_vec), len(dspike_mem_vec)))\n",
    "\n",
    "for i, dspike_mem in enumerate(dspike_mem_vec):\n",
    "    for j, mu in enumerate(mu_vec):\n",
    "        u, ud, spks, t, I, d = LIF_dspikes(mu=mu, sigma=1, dspike_mem=dspike_mem, dspike_rate=2, dspike_length=50, nb_steps=int(10e7))\n",
    "        isi = np.diff(t[spks==1])\n",
    "\n",
    "        rate_vec[j, i] = 1/np.mean(isi)\n",
    "        cv_vec[j, i] = np.std(isi)/np.mean(isi)"
   ]
  },
  {
   "cell_type": "code",
   "execution_count": 5,
   "id": "b7627150",
   "metadata": {},
   "outputs": [
    {
     "name": "stdout",
     "output_type": "stream",
     "text": [
      "1.7810680153377776\n"
     ]
    },
    {
     "data": {
      "image/png": "[encoded data removed]",
      "text/plain": [
       "<Figure size 350x300 with 2 Axes>"
      ]
     },
     "metadata": {},
     "output_type": "display_data"
    }
   ],
   "source": [
    "plt.figure(figsize=(3.5, 3))\n",
    "\n",
    "alphas = np.linspace(1, 0.4, len(dspike_mem_vec))\n",
    "plt.subplot(2,1,1)\n",
    "for i, dspike_mem in enumerate(dspike_mem_vec):\n",
    "    if dspike_mem == 0.3 or dspike_mem==0:\n",
    "        plt.plot(mu_vec, rate_vec[:, i], label='$D=$'+f'{dspike_mem}', color='tab:blue')\n",
    "        plt.vlines(mu_vec[np.where(cv_vec[:,i]==np.nanmax(cv_vec[:,i]))[0]], 0, 50, linestyle='--', color='k')\n",
    "    \n",
    "sns.despine()\n",
    "plt.xlabel('$I_{det}$')\n",
    "plt.ylabel('Frequency [Hz]')\n",
    "plt.yticks([0, 25, 50])\n",
    "plt.xticks([0.5, 0.75, 1, 1.25])\n",
    "\n",
    "plt.vlines(1, 0, 50, linestyle='--', color='k')\n",
    "plt.vlines(0.7, 0, 50, linestyle='--', color='k')\n",
    "    \n",
    "plt.subplot(2,1,2)\n",
    "for i, dspike_mem in enumerate(dspike_mem_vec):\n",
    "    if dspike_mem == 0.3:\n",
    "        plt.plot(mu_vec, cv_vec[:, i], color='tab:blue')\n",
    "        \n",
    "        print(np.nanmax(cv_vec[:,i]))\n",
    "        plt.plot(mu_vec[np.where(cv_vec[:,i]==np.nanmax(cv_vec[:,i]))[0]], np.nanmax(cv_vec[:,i]), '.', color='k')\n",
    "        \n",
    "        \n",
    "        plt.vlines(1, 0, 2, linestyle='--', color='k')\n",
    "        plt.vlines(0.7, 0, 2, linestyle='--', color='k')\n",
    "        \n",
    "    \n",
    "plt.xticks([0.5, 0.75, 1, 1.25])\n",
    "plt.yticks([0, 1, 2])\n",
    "\n",
    "plt.xlabel('$I_{det}$')\n",
    "plt.ylabel('CV')\n",
    "sns.despine()\n",
    "plt.tight_layout()\n",
    "plt.savefig('../results/figure1_f.svg')"
   ]
  },
  {
   "cell_type": "code",
   "execution_count": 8,
   "id": "0d142a75",
   "metadata": {},
   "outputs": [],
   "source": [
    "# save source data to csv\n",
    "data_frame = pd.DataFrame({\"I_det\" : mu_vec, \"rate\" : rate_vec[:, 0], \"cv\":cv_vec[:,0]})\n",
    "save_plot_data_csv(data_frame, filename='../data/figure1_f.csv')\n",
    "\n",
    "filename = 'I_det_vec'\n",
    "with open('../data/'+ filename + '.pkl', 'wb') as f:\n",
    "    pickle.dump(mu_vec, f)\n",
    "    \n",
    "filename = 'cv_vec'    \n",
    "with open('../data/'+ filename + '.pkl', 'wb') as f:\n",
    "    pickle.dump(cv_vec, f)"
   ]
  },
  {
   "cell_type": "code",
   "execution_count": 34,
   "id": "3c6a8803",
   "metadata": {},
   "outputs": [
    {
     "data": {
      "text/plain": [
       "array([0.5       , 0.5122449 , 0.5244898 , 0.53673469, 0.54897959,\n",
       "       0.56122449, 0.57346939, 0.58571429, 0.59795918, 0.61020408,\n",
       "       0.62244898, 0.63469388, 0.64693878, 0.65918367, 0.67142857,\n",
       "       0.68367347, 0.69591837, 0.70816327, 0.72040816, 0.73265306,\n",
       "       0.74489796, 0.75714286, 0.76938776, 0.78163265, 0.79387755,\n",
       "       0.80612245, 0.81836735, 0.83061224, 0.84285714, 0.85510204,\n",
       "       0.86734694, 0.87959184, 0.89183673, 0.90408163, 0.91632653,\n",
       "       0.92857143, 0.94081633, 0.95306122, 0.96530612, 0.97755102,\n",
       "       0.98979592, 1.00204082, 1.01428571, 1.02653061, 1.03877551,\n",
       "       1.05102041, 1.06326531, 1.0755102 , 1.0877551 , 1.1       ])"
      ]
     },
     "execution_count": 34,
     "metadata": {},
     "output_type": "execute_result"
    }
   ],
   "source": [
    "np.linspace(0.5, 1.1, 50)"
   ]
  },
  {
   "cell_type": "code",
   "execution_count": 68,
   "id": "fb929d93",
   "metadata": {},
   "outputs": [],
   "source": [
    "def sim_cv_peak():\n",
    "\n",
    "    mu_vec = np.linspace(0.6, 0.9, 21)\n",
    "    dspike_mem_vec = np.array([0.2, 0.3, 0.4, 0.5, 0.6, 0.7])\n",
    "\n",
    "\n",
    "    rate_vec = np.zeros((len(mu_vec), len(dspike_mem_vec)))\n",
    "    cv_vec = np.zeros((len(mu_vec), len(dspike_mem_vec)))\n",
    "\n",
    "    for i, dspike_mem in enumerate(dspike_mem_vec):\n",
    "        for j, mu in enumerate(mu_vec):\n",
    "            u, ud, spks, t, I, d = LIF_dspikes(mu=mu, sigma=1, dspike_mem=dspike_mem, dspike_rate=2, dspike_length=50, nb_steps=int(10e6))\n",
    "            isi = np.diff(t[spks==1])\n",
    "\n",
    "            rate_vec[j, i] = 1/np.mean(isi)\n",
    "            cv_vec[j, i] = np.std(isi)/np.mean(isi)\n",
    "                                               \n",
    "    return rate_vec, cv_vec\n",
    "                                               \n",
    "                                               \n",
    "def cv_peak(nb_runs):\n",
    "    \n",
    "    mu_vec = np.linspace(0.6, 0.9, 21)\n",
    "    dspike_mem_vec = np.array([0.2, 0.3, 0.4, 0.5, 0.6, 0.7])\n",
    "    \n",
    "    I_peak = []\n",
    "    for i in trange(nb_runs):\n",
    "        \n",
    "        rate_vec, cv_vec = sim_cv_peak()\n",
    "        \n",
    "        I_tmp = []\n",
    "        for i, dspike_mem in enumerate(dspike_mem_vec):\n",
    "            I_tmp.append(mu_vec[np.where(cv_vec[:,i]==np.nanmax(cv_vec[:,i]))[0]])\n",
    "            \n",
    "        I_tmp = np.asarray(I_tmp)\n",
    "                \n",
    "        I_peak.append(I_tmp)\n",
    "               \n",
    "    return np.asarray(I_peak)\n",
    "                                               "
   ]
  },
  {
   "cell_type": "code",
   "execution_count": null,
   "id": "8c820a3d",
   "metadata": {},
   "outputs": [
    {
     "name": "stderr",
     "output_type": "stream",
     "text": [
      "\r",
      "  0%|          | 0/5 [00:00<?, ?it/s]"
     ]
    }
   ],
   "source": [
    "I_peak = cv_peak(nb_runs=5)"
   ]
  },
  {
   "cell_type": "code",
   "execution_count": 66,
   "id": "7b202e4e",
   "metadata": {},
   "outputs": [
    {
     "data": {
      "text/plain": [
       "array([0.01683746, 0.01670329, 0.02067607, 0.02446426, 0.02527845,\n",
       "       0.0130767 ])"
      ]
     },
     "execution_count": 66,
     "metadata": {},
     "output_type": "execute_result"
    }
   ],
   "source": [
    "I_peak_tmp = I_peak[:,:,0]\n",
    "\n",
    "I_peak_mean = np.mean(I_peak_tmp, axis=0)\n",
    "I_peak_mean\n",
    "\n",
    "I_peak_error = np.std(I_peak_tmp, axis=0, ddof=1)/np.sqrt(5)\n",
    "I_peak_error"
   ]
  },
  {
   "cell_type": "code",
   "execution_count": 67,
   "id": "d156a621",
   "metadata": {},
   "outputs": [
    {
     "data": {
      "text/plain": [
       "([<matplotlib.axis.YTick at 0x1b4bf568fd0>,\n",
       "  <matplotlib.axis.YTick at 0x1b4bf568820>,\n",
       "  <matplotlib.axis.YTick at 0x1b4bf53d760>],\n",
       " [Text(0, 0, ''), Text(0, 0, ''), Text(0, 0, '')])"
      ]
     },
     "execution_count": 67,
     "metadata": {},
     "output_type": "execute_result"
    },
    {
     "data": {
      "image/png": "[encoded data removed]",
      "text/plain": [
       "<Figure size 100x50 with 1 Axes>"
      ]
     },
     "metadata": {},
     "output_type": "display_data"
    }
   ],
   "source": [
    "plt.figure(figsize=(1, 0.5))\n",
    "\n",
    "dspike_mem_vec = np.array([0.2, 0.3, 0.4, 0.5, 0.6, 0.7])\n",
    "for i, dspike_mem in enumerate(dspike_mem_vec):\n",
    "        \n",
    "    plt.plot(dspike_mem, I_peak_mean[i], '.', color='k')\n",
    "    plt.errorbar(dspike_mem, I_peak_mean[i], I_peak_error[i], fmt='None', color='k')\n",
    "    \n",
    "        \n",
    "sns.despine()\n",
    "\n",
    "plt.ylabel('$I_{det}^{*}$')\n",
    "plt.xlabel('$D$')\n",
    "plt.xticks([0, 0.4, 0.8])\n",
    "plt.yticks([0.7, 0.75, 0.8])\n",
    "#plt.savefig('../results/figure1_h.svg')"
   ]
  },
  {
   "cell_type": "code",
   "execution_count": null,
   "id": "cf7c49e8",
   "metadata": {},
   "outputs": [],
   "source": [
    "# save source data to csv\n",
    "data_frame = pd.DataFrame({\"I_det_max\" : x, \"D\" : y})\n",
    "save_plot_data_csv(data_frame, filename='../data/figure1_h.csv')"
   ]
  },
  {
   "cell_type": "code",
   "execution_count": 214,
   "id": "f07e68e8",
   "metadata": {},
   "outputs": [
    {
     "name": "stderr",
     "output_type": "stream",
     "text": [
      "C:\\Users\\Zach Friedenberger\\AppData\\Local\\Temp\\ipykernel_28656\\3668576523.py:23: UserWarning: Tight layout not applied. The bottom and top margins cannot be made large enough to accommodate all axes decorations.\n",
      "  plt.tight_layout()\n"
     ]
    },
    {
     "data": {
      "image/png": "[encoded data removed]",
      "text/plain": [
       "<Figure size 150x50 with 1 Axes>"
      ]
     },
     "metadata": {},
     "output_type": "display_data"
    }
   ],
   "source": [
    "u_noisy, ud_noisy, spks_noisy, t, I, d_noisy = LIF_dspikes(mu=0.5, sigma=1, dspike_mem=0.3, dspike_rate=5, dspike_length=50, nb_steps=int(10e5))\n",
    "\n",
    "plt.figure(figsize=(1.5, 0.5))\n",
    "\n",
    "plt.plot(t[100:600]-0.1, u_noisy[100:600] + ud_noisy[100:600])\n",
    "plt.plot(t[100:600]-0.1, 0.5*np.ones(500) + d_noisy[100:600]*0.3)\n",
    "t2 = t[100:600]-0.1\n",
    "\n",
    "for t_tmp in t2[spks_noisy[100:600]==1]:\n",
    "    plt.vlines(t_tmp, 0, 2)\n",
    "    \n",
    "plt.plot(t[100:600]-0.1, np.ones(500), color='k', linestyle='--')\n",
    "\n",
    "sns.despine()\n",
    "plt.xticks([0, 0.25, 0.5])\n",
    "plt.xlabel('Time [s]')\n",
    "plt.yticks([0, 0.5, 1])\n",
    "plt.xlim([0, .5])\n",
    "plt.ylim([.3, 1.3])\n",
    "plt.ylabel('$u_{s}$')\n",
    "\n",
    "plt.title('$I_{det}$ = 0.5')\n",
    "plt.tight_layout()\n",
    "\n",
    "plt.savefig('../results/LIF_low.svg')"
   ]
  },
  {
   "cell_type": "code",
   "execution_count": 218,
   "id": "fbfea2d2",
   "metadata": {},
   "outputs": [
    {
     "data": {
      "image/png": "[encoded data removed]",
      "text/plain": [
       "<Figure size 150x50 with 1 Axes>"
      ]
     },
     "metadata": {},
     "output_type": "display_data"
    }
   ],
   "source": [
    "u_noisy, ud_noisy, spks_noisy, t, I, d_noisy = LIF_dspikes(mu=0.7, sigma=1, dspike_mem=0.3, dspike_rate=5, dspike_length=50, nb_steps=int(10e5))\n",
    "\n",
    "plt.figure(figsize=(1.5, 0.5))\n",
    "\n",
    "plt.plot(t[100:600]-0.1, u_noisy[100:600] + ud_noisy[100:600])\n",
    "plt.plot(t[100:600]-0.1, 0.8*np.ones(500) + d_noisy[100:600]*0.3)\n",
    "t2 = t[100:600]-0.1\n",
    "\n",
    "for t_tmp in t2[spks_noisy[100:600]==1]:\n",
    "    plt.vlines(t_tmp, 0, 2)\n",
    "    \n",
    "plt.plot(t[100:600]-0.1, np.ones(500), color='k', linestyle='--')\n",
    "\n",
    "sns.despine()\n",
    "plt.xticks([0, 0.25, 0.5])\n",
    "plt.xlabel('Time [s]')\n",
    "plt.yticks([0, 0.5, 1])\n",
    "plt.xlim([0, .5])\n",
    "plt.ylim([.3, 1.3])\n",
    "plt.ylabel('$u_{s}$')\n",
    "\n",
    "plt.title('$I_{det}$ = 0.7')\n",
    "\n",
    "plt.savefig('../results/LIF_middle.svg')"
   ]
  },
  {
   "cell_type": "code",
   "execution_count": 226,
   "id": "af793c28",
   "metadata": {},
   "outputs": [
    {
     "data": {
      "image/png": "[encoded data removed]",
      "text/plain": [
       "<Figure size 150x50 with 1 Axes>"
      ]
     },
     "metadata": {},
     "output_type": "display_data"
    }
   ],
   "source": [
    "u_noisy, ud_noisy, spks_noisy, t, I, d_noisy = LIF_dspikes(mu=1.05, sigma=1, dspike_mem=0.3, dspike_rate=5, dspike_length=50, nb_steps=int(10e5))\n",
    "\n",
    "plt.figure(figsize=(1.5, 0.5))\n",
    "\n",
    "plt.plot(t[100:600]-0.1, u_noisy[100:600] + ud_noisy[100:600])\n",
    "plt.plot(t[100:600]-0.1, 1.05*np.ones(500) + d_noisy[100:600]*0.3)\n",
    "t2 = t[100:600]-0.1\n",
    "\n",
    "for t_tmp in t2[spks_noisy[100:600]==1]:\n",
    "    plt.vlines(t_tmp, 0, 2)\n",
    "    \n",
    "plt.plot(t[100:600]-0.1, np.ones(500), color='k', linestyle='--')\n",
    "\n",
    "sns.despine()\n",
    "plt.xticks([0, 0.25, 0.5])\n",
    "plt.xlabel('$Time$ [s]')\n",
    "plt.yticks([0, 0.5, 1])\n",
    "plt.xlim([0, .5])\n",
    "plt.ylim([.3, 1.4])\n",
    "plt.ylabel('$u_{s}$')\n",
    "\n",
    "plt.title('$I_{det}$ = 1.05')\n",
    "\n",
    "plt.savefig('../results/LIF_upper.svg')"
   ]
  }
 ],
 "metadata": {
  "kernelspec": {
   "display_name": "Python 3 (ipykernel)",
   "language": "python",
   "name": "python3"
  },
  "language_info": {
   "codemirror_mode": {
    "name": "ipython",
    "version": 3
   },
   "file_extension": ".py",
   "mimetype": "text/x-python",
   "name": "python",
   "nbconvert_exporter": "python",
   "pygments_lexer": "ipython3",
   "version": "3.8.11"
  }
 },
 "nbformat": 4,
 "nbformat_minor": 5
}
