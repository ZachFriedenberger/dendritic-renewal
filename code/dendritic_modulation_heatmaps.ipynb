{
 "cells": [
  {
   "cell_type": "code",
   "execution_count": 7,
   "id": "b8c86121",
   "metadata": {},
   "outputs": [],
   "source": [
    "import numpy as np\n",
    "import matplotlib.pyplot as plt\n",
    "import pickle\n",
    "import seaborn as sns\n",
    "import pandas as pd\n",
    "from scipy import optimize"
   ]
  },
  {
   "cell_type": "markdown",
   "id": "3689171b",
   "metadata": {},
   "source": [
    "# Extract all parameters"
   ]
  },
  {
   "cell_type": "code",
   "execution_count": 8,
   "id": "38eeaa56",
   "metadata": {},
   "outputs": [],
   "source": [
    "def extract_A(A_inf_tmp, I_s_vec, A_thresh):\n",
    "    \n",
    "    A_sign = np.sign(A_inf_tmp[0]-A_thresh)   \n",
    "    change_idx = np.where(np.diff(A_sign)!=0)[0]\n",
    "    lower_A = A_inf_tmp[0][change_idx]\n",
    "    upper_A = A_inf_tmp[0][change_idx+1]\n",
    "    lower_I = I_s_vec[change_idx]\n",
    "    upper_I = I_s_vec[change_idx+1]\n",
    "    \n",
    "    m = (upper_A-lower_A)/(upper_I-lower_I) # linear interpolation between the two points on either side of the crossing \n",
    "    I_thresh = (1/m)*(A_thresh - lower_A) + lower_I\n",
    "    \n",
    "    return I_thresh\n",
    "\n",
    "\n",
    "def extract_c(cv_tmp, cv_passive, I_s_vec):\n",
    "    \n",
    "    max_idx = np.where(cv_tmp[0]==np.max(cv_tmp[0]))[0]\n",
    "    \n",
    "    c = cv_tmp[0][max_idx] - cv_passive[0][max_idx]\n",
    "    max_cv_I = I_s_vec[max_idx]\n",
    "    \n",
    "    return c, max_cv_I\n",
    "\n",
    "def piecewise_linear(x, x0, y0, k1, k2):\n",
    "    return np.piecewise(x, [x < x0], [lambda x:k1*x + y0 -k1*x0, lambda x:k2*x + y0-k2*x0])\n",
    "\n",
    "def extract_g(A_inf_tmp, I_s_vec, piecewise_linear):\n",
    "    \n",
    "    x = I_s_vec\n",
    "    y = np.log(A_inf_tmp[0])\n",
    "    p , e = optimize.curve_fit(piecewise_linear, x, y, [1.25, 3, 1.5, 0.5])\n",
    "    \n",
    "    rate = p[2]\n",
    "    transition = p[0]\n",
    "    lift = p[1] - p[2]*p[0]\n",
    "    \n",
    "    return rate, transition, lift\n",
    "\n",
    "\n",
    "def load_kernel_data(param1_key, param1_vec, param2_key, param2_vec):\n",
    "    \n",
    "    data_folder = 'kernel_change_data'\n",
    "    \n",
    "    a = np.zeros((len(param1_vec), len(param2_vec)))\n",
    "    c = np.zeros((len(param1_vec), len(param2_vec)))\n",
    "    c_I = np.zeros((len(param1_vec), len(param2_vec)))\n",
    "    g = np.zeros((len(param1_vec), len(param2_vec)))\n",
    "    g_I = np.zeros((len(param1_vec), len(param2_vec)))\n",
    "    g_A0 = np.zeros((len(param1_vec), len(param2_vec)))\n",
    "    \n",
    "    I_s_vec = np.linspace(0, 5, 31)\n",
    "    for i, param1 in enumerate(param1_vec):\n",
    "        for j, param2 in enumerate(param2_vec):\n",
    "\n",
    "            with open('../data/kernel_change_data/A_inf_' + param1_key + '_' + str(param1) + param2_key + '_' + str(param2) + '_change.pkl', 'rb') as f:\n",
    "                A_inf_tmp = pickle.load(f)\n",
    "                \n",
    "            with open('../data/kernel_change_data/cv_' + param1_key + '_' + str(param1) + param2_key + '_' + str(param2) + '_change.pkl', 'rb') as f:\n",
    "                cv_tmp = pickle.load(f)\n",
    "            \n",
    "\n",
    "            with open('../data/kernel_change_data/A_inf_' + param1_key + '_' + str(param1) + param2_key + '_' + str(param2) + '_change_passive.pkl', 'rb') as f:\n",
    "                A_inf_passive = pickle.load(f)\n",
    "                \n",
    "            with open('../data/kernel_change_data/cv' + param1_key + '_' + str(param1) + param2_key + '_' + str(param2) + '_change_passive.pkl', 'rb') as f:\n",
    "                cv_passive = pickle.load(f)\n",
    "                \n",
    "            A_thresh = 80\n",
    "            I_thresh_active = extract_A(A_inf_tmp, I_s_vec, A_thresh)\n",
    "            I_thresh_passive = extract_A(A_inf_passive, I_s_vec, A_thresh)\n",
    "            \n",
    "            a[i, j] = I_thresh_passive - I_thresh_active\n",
    "            \n",
    "            c[i, j], c_I[i, j] = extract_c(cv_tmp, cv_passive, I_s_vec)\n",
    "            \n",
    "            g[i, j], g_I[i, j], g_A0[i, j] = extract_g(A_inf_tmp, I_s_vec, piecewise_linear)\n",
    "            \n",
    "    return a, c, c_I, g, g_I, g_A0"
   ]
  },
  {
   "cell_type": "code",
   "execution_count": 9,
   "id": "70b74f64",
   "metadata": {},
   "outputs": [],
   "source": [
    "D_vec = np.linspace(0, 5, 30)\n",
    "delta_D_vec = np.linspace(1, 15, 30)\n",
    "a, c, c_I, g, g_I, g_A0 = load_kernel_data(param1_key='D', param1_vec=D_vec, param2_key='delta_D', param2_vec=delta_D_vec)"
   ]
  },
  {
   "cell_type": "code",
   "execution_count": 17,
   "id": "a67f5fa2",
   "metadata": {},
   "outputs": [],
   "source": [
    "def plot_parameter(param_data, param_name, filename):\n",
    "\n",
    "    plt.figure(figsize=(2, 1.5))\n",
    "    ax = sns.heatmap(param_data, cmap='Blues')\n",
    "    ax.invert_yaxis()\n",
    "    plt.title(f'${param_name}$')\n",
    "\n",
    "    loc = [0, 29/2, 29]\n",
    "    plt.xticks(loc, [0, 75, 150], rotation=0)\n",
    "    plt.yticks(loc, [0, 2.5, 5], rotation=0)\n",
    "\n",
    "    plt.xlabel('$\\Delta_{d}$ [ms]')\n",
    "    plt.ylabel('$D$')\n",
    "    plt.tight_layout()\n",
    "\n",
    "    plt.savefig('../results/'+ filename + '.svg')\n",
    "    \n",
    "    return"
   ]
  },
  {
   "cell_type": "code",
   "execution_count": 16,
   "id": "fc4dfa3d",
   "metadata": {},
   "outputs": [
    {
     "data": {
      "image/png": "[encoded data removed]",
      "text/plain": [
       "<Figure size 200x150 with 2 Axes>"
      ]
     },
     "metadata": {},
     "output_type": "display_data"
    },
    {
     "data": {
      "image/png": "[encoded data removed]",
      "text/plain": [
       "<Figure size 200x150 with 2 Axes>"
      ]
     },
     "metadata": {},
     "output_type": "display_data"
    },
    {
     "data": {
      "image/png": "[encoded data removed]",
      "text/plain": [
       "<Figure size 200x150 with 2 Axes>"
      ]
     },
     "metadata": {},
     "output_type": "display_data"
    }
   ],
   "source": [
    "plot_parameter(param_data=a, param_name='a', filename='a_parameter')\n",
    "plot_parameter(param_data=c, param_name='c', filename='c_parameter')\n",
    "plot_parameter(param_data=g, param_name='g', filename='g_parameter')"
   ]
  }
 ],
 "metadata": {
  "kernelspec": {
   "display_name": "Python 3 (ipykernel)",
   "language": "python",
   "name": "python3"
  },
  "language_info": {
   "codemirror_mode": {
    "name": "ipython",
    "version": 3
   },
   "file_extension": ".py",
   "mimetype": "text/x-python",
   "name": "python",
   "nbconvert_exporter": "python",
   "pygments_lexer": "ipython3",
   "version": "3.9.12"
  }
 },
 "nbformat": 4,
 "nbformat_minor": 5
}
