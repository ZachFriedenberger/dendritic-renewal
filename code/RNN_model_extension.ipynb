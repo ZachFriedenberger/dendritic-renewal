{
 "cells": [
  {
   "cell_type": "code",
   "execution_count": 1,
   "id": "2d162b8a",
   "metadata": {},
   "outputs": [],
   "source": [
    "import numpy as np\n",
    "import matplotlib.pyplot as plt\n",
    "import seaborn as sns\n",
    "import tqdm.notebook as tq\n",
    "from tqdm import trange\n",
    "import pickle"
   ]
  },
  {
   "cell_type": "code",
   "execution_count": 8,
   "id": "dd7e856b",
   "metadata": {},
   "outputs": [],
   "source": [
    "class NeuronModelConfig:\n",
    "    \"\"\"\n",
    "    Configuration class that defines the neuron model as a collection of other functions\n",
    "    \"\"\"\n",
    "    def __init__(self, params, input_potential, rate_dendrite_integral, initial_rate_soma, \n",
    "                 rate_soma, refractory_kernel, dendritic_kernel):\n",
    "        \n",
    "        self.params = params\n",
    "        self.input_potential = input_potential\n",
    "        self.rate_dendrite_integral = rate_dendrite_integral\n",
    "        self.initial_rate_soma = initial_rate_soma\n",
    "        self.rate_soma = rate_soma\n",
    "        self.refractory_kernel = refractory_kernel\n",
    "        self.dendritic_kernel = dendritic_kernel\n",
    "\n",
    "        \n",
    "def default_params():\n",
    "    \"\"\"\n",
    "    Generate a dictionary with the default neuron model parameters.\n",
    "\n",
    "    Return\n",
    "    ------\n",
    "        params (dict): Parameters defining the neuron model.\n",
    "\n",
    "    \"\"\"\n",
    "    params = {}\n",
    "    \n",
    "    # input potential parameters\n",
    "    params['L'] = 10\n",
    "    params['I_d'] = 1\n",
    "    params['I_s'] = 1\n",
    "    params['x_d'] = 8\n",
    "    \n",
    "    # dendritic rate parameters\n",
    "    params['lambda_d'] = .1\n",
    "    params['B'] = 1\n",
    "    params['v_B'] = 2\n",
    "    \n",
    "    # somatic rate parameters\n",
    "    params['lambda_s'] = .01\n",
    "    params['R'] = 1\n",
    "    params['delta_R'] = 1\n",
    "    params['D'] = 2\n",
    "    params['delta_D'] = 2\n",
    "    \n",
    "    params['tau'] = 10*1e-3 # hypothetical membrane time constant for scaling time.\n",
    "\n",
    "    # gaussian mask parameters\n",
    "    params['mu'] = 8\n",
    "    params['sigma'] = 0.5\n",
    "    \n",
    "    # gaussian input parameters\n",
    "    params['xd_I'] = 8\n",
    "    params['sigma_I'] = 0.5\n",
    "    \n",
    "    params['tau_syn'] = 0.3\n",
    "    \n",
    "    return params\n",
    "\n",
    "\n",
    "def input_potential_uniform(X, config):\n",
    "    \"\"\"\n",
    "    Estimate the input potnential at locations X for a neuron with parameters given by params. Localized somatic and dendritic input.\n",
    "\n",
    "    Args\n",
    "    ----\n",
    "        X (Ndarray): 1xN array of spatial locations along the dendrite.\n",
    "        params (dict): Dicionary of parameter values defining the neuron model.\n",
    "\n",
    "    Return\n",
    "    ------\n",
    "        Array of input potentials corresponing to the locations given by the input X.\n",
    "    \"\"\"\n",
    "    params = config.params\n",
    "    \n",
    "    I_s = params['I_s']\n",
    "    I_d = params['I_d']\n",
    "    x_d = params['x_d']\n",
    "    L = params['L']\n",
    "    \n",
    "    N = 100 # approximation of infinite sum\n",
    "    n = np.arange(-N, N+1) # n = {-N, -(N-1), ..., 0, ..., (N-1), N}\n",
    "    \n",
    "    if type(X)==int:  # if only a point estimate is needed at location X\n",
    "        dx = 0.00001\n",
    "        h = np.sum((I_s/2)*(np.exp(-1*np.abs(X-2*n*L+dx))+np.exp(-1*np.abs(X-2*n*L-dx))) + (I_d/2)*(np.exp(-1*np.abs(X-2*n*L-x_d)) + np.exp(-1*np.abs(X-2*n*L+x_d))))\n",
    "    else: # get estimate of the input potential for each entry of X\n",
    "        h = np.zeros(len(X))\n",
    "        dx = X[1]-X[0]\n",
    "        for i, x in enumerate(X): \n",
    "            h[i] = np.sum((I_s/2)*(np.exp(-1*np.abs(x-2*n*L+dx)) + np.exp(-1*np.abs(x-2*n*L-dx))) + (I_d/2)*(np.exp(-1*np.abs(x-2*n*L-x_d)) + np.exp(-1*np.abs(x-2*n*L+x_d))))\n",
    "        \n",
    "    return h\n",
    "\n",
    "def relu(x):\n",
    "    y=x\n",
    "    y[x<0] = 0\n",
    "    \n",
    "    return y\n",
    "\n",
    "def refractory_kernel_square(t, config):\n",
    "    \n",
    "    params = config.params\n",
    "    \n",
    "    R = params['R']\n",
    "    delta_R = params['delta_R']\n",
    "    \n",
    "    ref = -R*np.heaviside(delta_R - t, 1)\n",
    "    \n",
    "    return ref\n",
    "\n",
    "def dendritic_kernel_square(t, config):\n",
    "    params = config.params\n",
    "    \n",
    "    D = params['D']\n",
    "    delta_D = params['delta_D']\n",
    "    \n",
    "    d_spike = D*np.heaviside(delta_D - t, 1)\n",
    "    \n",
    "    return d_spike\n",
    "\n",
    "\n",
    "def rate_dendrite_integral(t, t_hat, h, dx, config):\n",
    "    \"\"\"\n",
    "    Integral of the dendritic hazard rate over space. Non-spatial case.\n",
    "\n",
    "    Args\n",
    "    ----\n",
    "        t (TYPE): DESCRIPTION.\n",
    "        t_hat (TYPE): DESCRIPTION.\n",
    "        params (TYPE): DESCRIPTION.\n",
    "\n",
    "    Return\n",
    "    ------\n",
    "        continuous_part (TYPE): DESCRIPTION.\n",
    "        continuous_part_vec (TYPE): DESCRIPTION.\n",
    "        discrete_part (TYPE): DESCRIPTION.\n",
    "\n",
    "    \"\"\"\n",
    "    params = config.params\n",
    "    \n",
    "    lambda_d = params['lambda_d']\n",
    "    L = params['L']\n",
    "    v_B = params['v_B']\n",
    "    B = params['B']    \n",
    "    \n",
    "    continuous_part  = lambda_d*np.sum(h)*dx\n",
    "    discrete_part = lambda_d*B*np.heaviside(L/v_B - (t-t_hat), 1)\n",
    "    continuous_part_vec = lambda_d*h\n",
    "    \n",
    "    return continuous_part, continuous_part_vec, discrete_part\n",
    "\n",
    "\n",
    "def initial_rate_soma(t, t_hat, h_0, config):\n",
    "    \"\"\"\n",
    "    Calculate the initial somatic hazard rate.\n",
    "\n",
    "    Args\n",
    "    ----\n",
    "        t (float): Current time.\n",
    "        t_hat (float): Time of the last somatic spike.\n",
    "        h_0 (float): Input potential evaluated at x=0.\n",
    "        params (dict): Parameters defining the neuron model.\n",
    "\n",
    "    Return\n",
    "    ------\n",
    "        rate (float): initial somatic hazard rate evaluated at time t given t_hat\n",
    "\n",
    "    \"\"\"\n",
    "    \n",
    "    params = config.params\n",
    "    refractory_kernel = config.refractory_kernel\n",
    "    \n",
    "    lambda_s = params['lambda_s']\n",
    "    ref = refractory_kernel(t=(t-t_hat), config=config)\n",
    "    rate = lambda_s*np.exp(h_0 + ref) \n",
    "    \n",
    "    return rate\n",
    "\n",
    "def rate_soma(t, t_p, t_hat, h_0, config):\n",
    "    \"\"\"\n",
    "    Calculate the soamtic hazard rate (after a dendritic spike has ocurred).\n",
    "\n",
    "    Args\n",
    "    ----\n",
    "        t (float): Current time.\n",
    "        t_p (float): Time of the last dendritic spike.\n",
    "        t_hat (float): Time of the last somatic spike.\n",
    "        params (dict): Parameters defining the neuron model.\n",
    "\n",
    "    Return\n",
    "\n",
    "        rate (TYPE): Somatic hazard rate evaluated at time t given t_hat and t_p.\n",
    "\n",
    "    \"\"\"\n",
    "    params = config.params\n",
    "    refractory_kernel = config.refractory_kernel\n",
    "    dendritic_kernel = config.dendritic_kernel\n",
    "    \n",
    "    lambda_s = params['lambda_s']\n",
    "    ref = refractory_kernel(t=(t-t_hat), config=config)\n",
    "    d_spike = dendritic_kernel(t=(t-t_p), config=config)\n",
    "    rate = lambda_s*np.exp(h_0 + ref + d_spike)\n",
    "    \n",
    "    return rate\n",
    "\n",
    "def survivor_dendrite(t_vec, dt, dx, h, config):\n",
    "    \"\"\"\n",
    "    Calculate the dendritic survivor function\n",
    "\n",
    "    Args\n",
    "    ----\n",
    "        t_vec (numpy array): A vector representing t-t_hat\n",
    "        dt (float): Integration timestep\n",
    "        rate_dendrite (function): Dendriic hazard rate\n",
    "        params (dict): Parameters defining the neuron model.\n",
    "\n",
    "    Return\n",
    "    ------\n",
    "        survivor_function (numpy array): Dendritic survivor function\n",
    "\n",
    "    \"\"\"\n",
    "    rate_dendrite_integral = config.rate_dendrite_integral\n",
    "    \n",
    "    t_hat = 0 # we can assume this to be zero without loss of generality\n",
    "    \n",
    "    rates = np.zeros(len(t_vec))\n",
    "    for i, t in enumerate(t_vec): \n",
    "        continuous_part, continuous_part_vec, discrete_part = rate_dendrite_integral(t=t, t_hat=t_hat, h=h, dx=dx, config=config)\n",
    "        rates[i] = continuous_part + discrete_part\n",
    "        \n",
    "    survivor_function = np.exp(-np.cumsum(rates)*dt)\n",
    "        \n",
    "    return survivor_function\n",
    "\n",
    "\n",
    "def survivor_initial_soma(t_vec, dt, h_0, config):\n",
    "    \"\"\"\n",
    "    Calculate the initial somatic survivor function.\n",
    "    \n",
    "    Args\n",
    "    ----\n",
    "    t_vec (numpy array): A vector representing t-t_hat\n",
    "    dt (float): Integration timestep\n",
    "    rate_dendrite (function): Dendriic hazard rate\n",
    "    params (dict): Parameters defining the neuron model.\n",
    "\n",
    "    Return\n",
    "    ------\n",
    "        survivor_function (numpy array): Initial somatic survivor function\n",
    "\n",
    "    \"\"\"    \n",
    "    initial_rate_soma = config.initial_rate_soma\n",
    "    \n",
    "    t_hat = 0 # we can assume this to be zero without loss of generality\n",
    "    \n",
    "    rates = np.zeros(len(t_vec))\n",
    "    for i, t in enumerate(t_vec): \n",
    "        rates[i] = initial_rate_soma(t=t, t_hat=t_hat, h_0=h_0, config=config)\n",
    "        \n",
    "    survivor_function = np.exp(-np.cumsum(rates)*dt)\n",
    "    \n",
    "    return survivor_function\n",
    "\n",
    "# NOTE: The above two functions are essentially the same \n",
    "# and can be possible combined into one function with a different hazard rates\n",
    "\n",
    "\n",
    "def survivor_conditional_soma(t_vec, dt, h_0, config):\n",
    "    \"\"\"\n",
    "    Calculate the conditional somatic survivor function (dependent on the last somatic and dendritic spike times).\n",
    "    \n",
    "    Args\n",
    "    ----\n",
    "    t_vec (numpy array): A vector representing t-t_p\n",
    "    dt (float): Integration timestep\n",
    "    rate_dendrite (function): Dendriic hazard rate\n",
    "    params (dict): Parameters defining the neuron model.\n",
    "\n",
    "    Return\n",
    "    ------\n",
    "        survivor_function (numpy array): Initial somatic survivor function\n",
    "\n",
    "    \"\"\"    \n",
    "    rate_soma = config.rate_soma\n",
    "    \n",
    "    t_p_matrix, t_matrix = np.meshgrid(t_vec, t_vec)\n",
    "    t_hat = 0 # we can assume this to be zero without loss of generality \n",
    "    \n",
    "    rate_matrix = rate_soma(t=t_matrix, t_p=t_p_matrix, t_hat=t_hat, h_0=h_0, config=config)\n",
    "    \n",
    "    rate_matrix_lower = np.tril(rate_matrix)\n",
    "    survivor_function = np.exp(-np.cumsum(rate_matrix_lower, axis=0)*dt)\n",
    "\n",
    "    return survivor_function"
   ]
  },
  {
   "cell_type": "code",
   "execution_count": 9,
   "id": "29dbf9a2",
   "metadata": {},
   "outputs": [],
   "source": [
    "def integrate_survivor_one_dendritic_spike(t_max, config):\n",
    "    \"\"\"\n",
    "    Numerically integrate the marginal survivor function.\n",
    "\n",
    "    Args\n",
    "    ----\n",
    "        t_max (TYPE): DESCRIPTION.\n",
    "        params (TYPE): DESCRIPTION.\n",
    "        epsilon (TYPE): DESCRIPTION.\n",
    "        dendritic_rate (func): Integral of the dendritic hazard rate over space. Can we for the spatial or non-spatial case. \n",
    "        survivor_d (func): Survivor function of the dendrite. Can be for the spatial or non-spatial case.\n",
    "\n",
    "    Return\n",
    "    ------\n",
    "        S_theory TYPE: Marginal somatic survivor probability as a function of time\n",
    "        t_prime_vec TYPE: The times corresponding to each value in S_theory\n",
    "\n",
    "    \"\"\"\n",
    "    \n",
    "    params = config.params\n",
    "    input_potential = config.input_potential\n",
    "    rate_dendrite_integral = config.rate_dendrite_integral\n",
    "    \n",
    "    t_hat = 0\n",
    "    dtp = t_max/10000\n",
    "    epsilon = 1e-7\n",
    "    \n",
    "    L = params['L']\n",
    "    v_B = params['v_B']\n",
    "    dx = v_B*dtp\n",
    "    x_grid = np.linspace(0, L, int(L/dx)+1)\n",
    "    h = input_potential(X=x_grid, config=config) \n",
    "    \n",
    "    t_prime_vec = np.linspace(0, t_max, int(t_max/dtp)+1)\n",
    "    \n",
    "    S_d = survivor_dendrite(t_vec=t_prime_vec, dt=dtp, dx=dx, h=h, config=config)\n",
    "    \n",
    "    continuous_part, _, discrete_part  = rate_dendrite_integral(t=t_prime_vec, t_hat=t_hat, h=h, dx=dx, config=config)\n",
    "    rate_d = continuous_part + discrete_part\n",
    "    \n",
    "    S_s0 = survivor_initial_soma(t_vec=t_prime_vec, dt=dtp, h_0=h[0], config=config)\n",
    "    \n",
    "    S_s = survivor_conditional_soma(t_vec=t_prime_vec, dt=dtp, h_0=h[0], config=config)\n",
    "    \n",
    "    S_tmp = survivor_dendrite(t_vec=t_prime_vec, dt=dtp, dx=dx, h=h, config=config)*survivor_initial_soma(t_vec=t_prime_vec, dt=dtp, h_0=h[0], config=config)\n",
    "    S_theory = S_s0*S_d\n",
    "    \n",
    "    for i, t in enumerate(t_prime_vec):    \n",
    "        S_theory[i] += np.sum(S_tmp[:i]*rate_d[:i]*S_s[i, :i])*dtp\n",
    "        \n",
    "    return S_theory, t_prime_vec\n"
   ]
  },
  {
   "cell_type": "code",
   "execution_count": 10,
   "id": "a09bfd15",
   "metadata": {},
   "outputs": [],
   "source": [
    "def estimate_t_max(epsilon, config):\n",
    "    \n",
    "    initial_rate_soma = config.initial_rate_soma\n",
    "    input_potential = config.input_potential\n",
    "    dt = 0.01\n",
    "    rate_integral = 0\n",
    "    n=0\n",
    "    \n",
    "    h_0 = input_potential(X=0, config=config) \n",
    "    \n",
    "    while rate_integral<np.log(1/epsilon):\n",
    "        rate_integral += initial_rate_soma(t=n*dt, t_hat=0, h_0=h_0, config=config)*dt\n",
    "        n += 1\n",
    "        \n",
    "    t_max = n*dt\n",
    "    \n",
    "    return t_max"
   ]
  },
  {
   "cell_type": "code",
   "execution_count": 11,
   "id": "a067a092",
   "metadata": {},
   "outputs": [],
   "source": [
    "def ensemble_response_theory(I_s_vec, I_d_vec, integrate_survivor, config):\n",
    "    \"\"\"\n",
    "    Calucluate the stationary firing rate and cv using the integration method.\n",
    "\n",
    "    Args\n",
    "    ----\n",
    "        I_s_vec (TYPE): DESCRIPTION.\n",
    "        I_d_vec (TYPE): DESCRIPTION.\n",
    "        params (TYPE): DESCRIPTION.\n",
    "        dendritic_rate (TYPE): DESCRIPTION.\n",
    "        survivor_dendrite (TYPE): DESCRIPTION.\n",
    "\n",
    "    Return\n",
    "    ------\n",
    "        A_inf_mat (TYPE): DESCRIPTION.\n",
    "\n",
    "    \"\"\"\n",
    "    params = config.params\n",
    "    epsilon = 0.001\n",
    "    tau = params['tau']\n",
    "    \n",
    "    A = np.zeros((len(I_d_vec), len(I_s_vec)))\n",
    "    cv = np.zeros((len(I_d_vec), len(I_s_vec)))\n",
    "    \n",
    "    i=0\n",
    "    for I_s in tq.tqdm(I_s_vec, desc=\"I_s Loop\", position=0):\n",
    "        \n",
    "        params['I_s'] = I_s\n",
    "        \n",
    "        j=0\n",
    "        for I_d in tq.tqdm(I_d_vec, desc=\"I_d Loop\", position=1, leave=False):\n",
    "            \n",
    "            params['I_d'] = I_d\n",
    "            \n",
    "            t_max = estimate_t_max(epsilon=epsilon, config=config)\n",
    "            \n",
    "            S_theory, t_vec_theory = integrate_survivor(t_max=t_max, config=config)\n",
    "            dt = t_vec_theory[1]\n",
    "            \n",
    "            A[j, i] = (1/(np.sum(S_theory)*dt*tau))    \n",
    "            \n",
    "            T_first_moment = (np.sum(S_theory)*dt)\n",
    "            T_second_moment = 2*np.sum(S_theory*t_vec_theory)*dt\n",
    "            cv[j, i] = np.sqrt((T_second_moment - T_first_moment**2) / T_first_moment**2)\n",
    "            \n",
    "            j+=1\n",
    "        i+=1\n",
    "\n",
    "    return A, cv\n",
    "\n",
    "\n",
    "\n",
    "def ensemble_response_monte_carlo(I_s_vec, I_d_vec, monte_carlo, config):\n",
    "    \n",
    "    nb_steps = int(1e6)\n",
    "    nb_neurons = 1000\n",
    "    \n",
    "    A = np.zeros((len(I_d_vec), len(I_s_vec)))\n",
    "    cv = np.zeros((len(I_d_vec), len(I_s_vec)))\n",
    "    nb_somatic_spikes = np.zeros((len(I_d_vec), len(I_s_vec)))\n",
    "    nb_dendritic_spikes = np.zeros((len(I_d_vec), len(I_s_vec)))\n",
    "    \n",
    "    \n",
    "    i=0\n",
    "    for I_s in tq.tqdm(I_s_vec, desc=\"I_s Loop\", position=0):\n",
    "\n",
    "        params['I_s'] = I_s\n",
    "        \n",
    "        # Monte carlo takes a long time to get spikes at low inputs, so I have incrementally increased the step size to speed up the simulation.\n",
    "        if I_s<=1.25: \n",
    "            dt = 1\n",
    "        if I_s>1.25 and I_s<=2.5:\n",
    "            dt = 0.1\n",
    "        if I_s>2.5:\n",
    "            dt = 0.01\n",
    "        \n",
    "        j=0\n",
    "        for I_d in tq.tqdm(I_d_vec, desc=\"I_d Loop\", position=1, leave=False):\n",
    "            \n",
    "            params['I_d'] = I_d\n",
    "\n",
    "\n",
    "            somatic_spike_train, dendritic_spike_train, _ = monte_carlo(nb_steps=nb_steps, nb_neurons=nb_neurons, dt=dt, \n",
    "                                                                        config=config, sample_dendritic_spike_locations=False)\n",
    "    \n",
    "            intervals, As, cvs = calcualte_statistics_monte_carlo(spike_train=somatic_spike_train, dt=dt, config=config)\n",
    "        \n",
    "            A[j, i] = np.mean(As)\n",
    "            cv[j, i] = np.mean(cvs)\n",
    "            \n",
    "            nb_somatic_spikes[j, i] = np.sum(somatic_spike_train)\n",
    "            nb_dendritic_spikes[j, i] = np.sum(dendritic_spike_train)\n",
    "            \n",
    "            j+=1\n",
    "        i+=1\n",
    "    \n",
    "    return A, cv, nb_somatic_spikes, nb_dendritic_spikes\n",
    "\n",
    "def calcualte_statistics_monte_carlo(spike_train, dt, config): \n",
    "    \n",
    "    params = config.params\n",
    "    intervals = []\n",
    "    tau=params['tau']\n",
    "    \n",
    "    nb_neurons, nb_steps = np.shape(spike_train)\n",
    "    As = np.zeros(nb_neurons)\n",
    "    cvs = np.zeros(nb_neurons)\n",
    "    \n",
    "    t = np.arange(nb_steps)*dt\n",
    "    \n",
    "    #spike_train = spike_train[:, :int(nb_steps/2)] #only use last half\n",
    "    #t = t[:int(nb_steps/2)]\n",
    "    \n",
    "    for n in range(nb_neurons):\n",
    "        \n",
    "        spike_times = t[spike_train[n,:]==1]\n",
    "        intervals_tmp = np.diff(spike_times)\n",
    "        \n",
    "        intervals.append(list(intervals_tmp))\n",
    "        \n",
    "        mu = np.mean(intervals_tmp)\n",
    "        sigma = np.std(intervals_tmp)\n",
    "        \n",
    "        As[n] = 1/(mu*tau)\n",
    "        cvs[n] = sigma/mu\n",
    "    \n",
    "    return intervals, As, cvs\n",
    "\n",
    "def calcualte_statistics_monte_carlo2(spike_train, dt, config): \n",
    "    \n",
    "    params = config.params\n",
    "    intervals = []\n",
    "    tau=params['tau']\n",
    "    \n",
    "    A_tmp = np.mean(spike_train, axis=0)/dt\n",
    "    \n",
    "    A_tmp_len = len(A_tmp)\n",
    "    last_quarter = A_tmp_len - int(A_tmp_len/4)\n",
    "            \n",
    "    A = np.mean(A_tmp[last_quarter:])/tau\n",
    "    \n",
    "    return A\n"
   ]
  },
  {
   "cell_type": "code",
   "execution_count": 12,
   "id": "ab1dde2b",
   "metadata": {},
   "outputs": [],
   "source": [
    "def monte_carlo_one_dendritic_spike(nb_steps, nb_neurons, dt, config, sample_dendritic_spike_locations=False):\n",
    "    \"\"\"\n",
    "    Monte Carlo sample the two-compartment renewal model.\n",
    "    \n",
    "    Args\n",
    "    ----\n",
    "        nb_steps (TYPE): DESCRIPTION.\n",
    "        dt (TYPE): DESCRIPTION.\n",
    "        params (TYPE): DESCRIPTION.\n",
    "        dendritic_rate (TYPE): DESCRIPTION.\n",
    "\n",
    "    Return\n",
    "    ------\n",
    "        intervals (list): Somatic interspike intervals. \n",
    "        somatic_spike_train (Ndarray): Array of spikes (0's and 1's)\n",
    "        dendritic_spike_train (Ndarray): Array of spikes (0's and 1's)\n",
    "\n",
    "    \"\"\"\n",
    "    \n",
    "    input_potential = config.input_potential\n",
    "    rate_dendrite_integral = config.rate_dendrite_integral\n",
    "    initial_rate_soma = config.initial_rate_soma\n",
    "    rate_soma = config.rate_soma\n",
    "    \n",
    "\n",
    "    # define grid of plocations along the dendrite\n",
    "    L = params['L']\n",
    "    v_B = params['v_B']\n",
    "    dx = v_B*dt\n",
    "    x_grid = np.linspace(0, L, int(L/dx)+1)\n",
    "    \n",
    "    # evaluate the input potential along the dendrite\n",
    "    h = input_potential(X=x_grid, config=config) \n",
    "    \n",
    "    somatic_intervals = []\n",
    "    last_s_spike = np.zeros(nb_neurons) \n",
    "    last_d_spike = np.zeros(nb_neurons)\n",
    "    last_d_spike_location = np.zeros(nb_neurons)\n",
    "    \n",
    "    somatic_spike_train = np.zeros((nb_neurons, nb_steps))\n",
    "    dendritic_spike_train = np.zeros((nb_neurons, nb_steps))\n",
    "    dendritic_spike_locations = np.zeros((nb_neurons, nb_steps))\n",
    "\n",
    "    dendrite_alive = np.asarray([True]*nb_neurons)\n",
    "    \n",
    "    for i in range(nb_steps):\n",
    "        \n",
    "        continuous_part, continuous_part_vec, discrete_part = rate_dendrite_integral(t=i*dt, t_hat=last_s_spike*dt, h=h, dx=dx, config=config)\n",
    "        prob_d = 1 - np.exp(-(continuous_part+discrete_part)*dt)\n",
    "        \n",
    "        rand_d = np.random.rand(nb_neurons)\n",
    "        d_spike_boolean = (rand_d<=prob_d)\n",
    "        \n",
    "        d_spike_update = np.logical_and(d_spike_boolean, dendrite_alive)\n",
    "        last_d_spike[d_spike_update] = i\n",
    "        dendrite_alive[d_spike_update] = False\n",
    "        \n",
    "         # sample dendritic spike locations\n",
    "        if sample_dendritic_spike_locations==True:\n",
    "            \n",
    "            r1 = np.random.rand(nb_neurons)\n",
    "            \n",
    "            # check if dendritic spike occurs at BAP location\n",
    "            BAP_location_boolean = (r1<=(discrete_part/(continuous_part+discrete_part)))\n",
    "            \n",
    "            updated_BAP_location = np.logical_and(BAP_location_boolean, d_spike_update)\n",
    "            \n",
    "            last_d_spike_location[updated_BAP_location] = v_B*(i-last_s_spike[updated_BAP_location])*dt\n",
    "            \n",
    "            dendritic_spike_locations[updated_BAP_location, i] = v_B*(i-last_s_spike[updated_BAP_location])*dt\n",
    "            \n",
    "            # get locations that are left to sample\n",
    "            continuous_location_boolean = np.logical_and(np.logical_not(BAP_location_boolean), d_spike_update)\n",
    "            \n",
    "            while np.sum(continuous_location_boolean)>0: \n",
    "                x_rand = np.random.randint(low=0, high=len(x_grid), size=nb_neurons)\n",
    "                r2 = np.random.rand(nb_neurons)\n",
    "    \n",
    "                continuous_spiked_boolean = (r2 <= continuous_part_vec[x_rand]/(continuous_part+discrete_part))\n",
    "                \n",
    "                updated_continuous_location = np.logical_and(continuous_spiked_boolean, continuous_location_boolean)\n",
    "                last_d_spike_location[updated_continuous_location] = x_grid[x_rand[updated_continuous_location]]\n",
    "                dendritic_spike_locations[updated_continuous_location, i] = x_grid[x_rand[updated_continuous_location]]\n",
    "                \n",
    "                continuous_location_boolean = np.logical_and(continuous_location_boolean, np.logical_not(continuous_spiked_boolean))\n",
    "                \n",
    "        \n",
    "        \n",
    "                \n",
    "        # 1xnb_neurons size array of rates    \n",
    "        initial_rate_soma_tmp = initial_rate_soma(t=i*dt, t_hat=last_s_spike*dt, h_0=h[0], config=config)\n",
    "        rate_soma_tmp = rate_soma(t=i*dt, t_p=last_d_spike*dt, t_hat=last_s_spike*dt, h_0=h[0], config=config)\n",
    "        \n",
    "        prob_s = 1 - np.exp(-rate_soma_tmp*dt)\n",
    "        prob_s[dendrite_alive] = 1 - np.exp(-initial_rate_soma_tmp[dendrite_alive]*dt)\n",
    "    \n",
    "        rand_s = np.random.rand(nb_neurons)\n",
    "       \n",
    "        s_spike_boolean = (rand_s<=prob_s)\n",
    "        \n",
    "        #d_spike_update = np.logical_and(d_spike_boolean, dendrite_alive)\n",
    "        # update spike train and last spike index\n",
    "        #dendritic_spike_train[d_spike_update,i] = 1\n",
    "        #last_d_spike[d_spike_update] = i\n",
    "        #dendrite_alive[d_spike_update] = False\n",
    "        \n",
    "        reset_dendrite = np.logical_and(s_spike_boolean, np.logical_not(dendrite_alive))\n",
    "        dendrite_alive[reset_dendrite]=True\n",
    "        \n",
    "        somatic_spike_train[s_spike_boolean,i] = 1\n",
    "        last_s_spike[s_spike_boolean] = i       \n",
    "        \n",
    "\n",
    "\n",
    "    return somatic_spike_train, dendritic_spike_train, dendritic_spike_locations"
   ]
  },
  {
   "cell_type": "code",
   "execution_count": 13,
   "id": "cbe4476a",
   "metadata": {},
   "outputs": [
    {
     "data": {
      "application/vnd.jupyter.widget-view+json": {
       "model_id": "a2c9c3ab8b4642408a68d61017be00ef",
       "version_major": 2,
       "version_minor": 0
      },
      "text/plain": [
       "I_s Loop:   0%|          | 0/31 [00:00<?, ?it/s]"
      ]
     },
     "metadata": {},
     "output_type": "display_data"
    },
    {
     "data": {
      "application/vnd.jupyter.widget-view+json": {
       "model_id": "",
       "version_major": 2,
       "version_minor": 0
      },
      "text/plain": [
       "I_d Loop:   0%|          | 0/3 [00:00<?, ?it/s]"
      ]
     },
     "metadata": {},
     "output_type": "display_data"
    },
    {
     "data": {
      "application/vnd.jupyter.widget-view+json": {
       "model_id": "",
       "version_major": 2,
       "version_minor": 0
      },
      "text/plain": [
       "I_d Loop:   0%|          | 0/3 [00:00<?, ?it/s]"
      ]
     },
     "metadata": {},
     "output_type": "display_data"
    },
    {
     "data": {
      "application/vnd.jupyter.widget-view+json": {
       "model_id": "",
       "version_major": 2,
       "version_minor": 0
      },
      "text/plain": [
       "I_d Loop:   0%|          | 0/3 [00:00<?, ?it/s]"
      ]
     },
     "metadata": {},
     "output_type": "display_data"
    },
    {
     "data": {
      "application/vnd.jupyter.widget-view+json": {
       "model_id": "",
       "version_major": 2,
       "version_minor": 0
      },
      "text/plain": [
       "I_d Loop:   0%|          | 0/3 [00:00<?, ?it/s]"
      ]
     },
     "metadata": {},
     "output_type": "display_data"
    },
    {
     "data": {
      "application/vnd.jupyter.widget-view+json": {
       "model_id": "",
       "version_major": 2,
       "version_minor": 0
      },
      "text/plain": [
       "I_d Loop:   0%|          | 0/3 [00:00<?, ?it/s]"
      ]
     },
     "metadata": {},
     "output_type": "display_data"
    },
    {
     "data": {
      "application/vnd.jupyter.widget-view+json": {
       "model_id": "",
       "version_major": 2,
       "version_minor": 0
      },
      "text/plain": [
       "I_d Loop:   0%|          | 0/3 [00:00<?, ?it/s]"
      ]
     },
     "metadata": {},
     "output_type": "display_data"
    },
    {
     "data": {
      "application/vnd.jupyter.widget-view+json": {
       "model_id": "",
       "version_major": 2,
       "version_minor": 0
      },
      "text/plain": [
       "I_d Loop:   0%|          | 0/3 [00:00<?, ?it/s]"
      ]
     },
     "metadata": {},
     "output_type": "display_data"
    },
    {
     "data": {
      "application/vnd.jupyter.widget-view+json": {
       "model_id": "",
       "version_major": 2,
       "version_minor": 0
      },
      "text/plain": [
       "I_d Loop:   0%|          | 0/3 [00:00<?, ?it/s]"
      ]
     },
     "metadata": {},
     "output_type": "display_data"
    },
    {
     "data": {
      "application/vnd.jupyter.widget-view+json": {
       "model_id": "",
       "version_major": 2,
       "version_minor": 0
      },
      "text/plain": [
       "I_d Loop:   0%|          | 0/3 [00:00<?, ?it/s]"
      ]
     },
     "metadata": {},
     "output_type": "display_data"
    },
    {
     "data": {
      "application/vnd.jupyter.widget-view+json": {
       "model_id": "",
       "version_major": 2,
       "version_minor": 0
      },
      "text/plain": [
       "I_d Loop:   0%|          | 0/3 [00:00<?, ?it/s]"
      ]
     },
     "metadata": {},
     "output_type": "display_data"
    },
    {
     "data": {
      "application/vnd.jupyter.widget-view+json": {
       "model_id": "",
       "version_major": 2,
       "version_minor": 0
      },
      "text/plain": [
       "I_d Loop:   0%|          | 0/3 [00:00<?, ?it/s]"
      ]
     },
     "metadata": {},
     "output_type": "display_data"
    },
    {
     "data": {
      "application/vnd.jupyter.widget-view+json": {
       "model_id": "",
       "version_major": 2,
       "version_minor": 0
      },
      "text/plain": [
       "I_d Loop:   0%|          | 0/3 [00:00<?, ?it/s]"
      ]
     },
     "metadata": {},
     "output_type": "display_data"
    },
    {
     "data": {
      "application/vnd.jupyter.widget-view+json": {
       "model_id": "",
       "version_major": 2,
       "version_minor": 0
      },
      "text/plain": [
       "I_d Loop:   0%|          | 0/3 [00:00<?, ?it/s]"
      ]
     },
     "metadata": {},
     "output_type": "display_data"
    },
    {
     "data": {
      "application/vnd.jupyter.widget-view+json": {
       "model_id": "",
       "version_major": 2,
       "version_minor": 0
      },
      "text/plain": [
       "I_d Loop:   0%|          | 0/3 [00:00<?, ?it/s]"
      ]
     },
     "metadata": {},
     "output_type": "display_data"
    },
    {
     "data": {
      "application/vnd.jupyter.widget-view+json": {
       "model_id": "",
       "version_major": 2,
       "version_minor": 0
      },
      "text/plain": [
       "I_d Loop:   0%|          | 0/3 [00:00<?, ?it/s]"
      ]
     },
     "metadata": {},
     "output_type": "display_data"
    },
    {
     "data": {
      "application/vnd.jupyter.widget-view+json": {
       "model_id": "",
       "version_major": 2,
       "version_minor": 0
      },
      "text/plain": [
       "I_d Loop:   0%|          | 0/3 [00:00<?, ?it/s]"
      ]
     },
     "metadata": {},
     "output_type": "display_data"
    },
    {
     "data": {
      "application/vnd.jupyter.widget-view+json": {
       "model_id": "",
       "version_major": 2,
       "version_minor": 0
      },
      "text/plain": [
       "I_d Loop:   0%|          | 0/3 [00:00<?, ?it/s]"
      ]
     },
     "metadata": {},
     "output_type": "display_data"
    },
    {
     "data": {
      "application/vnd.jupyter.widget-view+json": {
       "model_id": "",
       "version_major": 2,
       "version_minor": 0
      },
      "text/plain": [
       "I_d Loop:   0%|          | 0/3 [00:00<?, ?it/s]"
      ]
     },
     "metadata": {},
     "output_type": "display_data"
    },
    {
     "data": {
      "application/vnd.jupyter.widget-view+json": {
       "model_id": "",
       "version_major": 2,
       "version_minor": 0
      },
      "text/plain": [
       "I_d Loop:   0%|          | 0/3 [00:00<?, ?it/s]"
      ]
     },
     "metadata": {},
     "output_type": "display_data"
    },
    {
     "data": {
      "application/vnd.jupyter.widget-view+json": {
       "model_id": "",
       "version_major": 2,
       "version_minor": 0
      },
      "text/plain": [
       "I_d Loop:   0%|          | 0/3 [00:00<?, ?it/s]"
      ]
     },
     "metadata": {},
     "output_type": "display_data"
    },
    {
     "data": {
      "application/vnd.jupyter.widget-view+json": {
       "model_id": "",
       "version_major": 2,
       "version_minor": 0
      },
      "text/plain": [
       "I_d Loop:   0%|          | 0/3 [00:00<?, ?it/s]"
      ]
     },
     "metadata": {},
     "output_type": "display_data"
    },
    {
     "data": {
      "application/vnd.jupyter.widget-view+json": {
       "model_id": "",
       "version_major": 2,
       "version_minor": 0
      },
      "text/plain": [
       "I_d Loop:   0%|          | 0/3 [00:00<?, ?it/s]"
      ]
     },
     "metadata": {},
     "output_type": "display_data"
    },
    {
     "data": {
      "application/vnd.jupyter.widget-view+json": {
       "model_id": "",
       "version_major": 2,
       "version_minor": 0
      },
      "text/plain": [
       "I_d Loop:   0%|          | 0/3 [00:00<?, ?it/s]"
      ]
     },
     "metadata": {},
     "output_type": "display_data"
    },
    {
     "data": {
      "application/vnd.jupyter.widget-view+json": {
       "model_id": "",
       "version_major": 2,
       "version_minor": 0
      },
      "text/plain": [
       "I_d Loop:   0%|          | 0/3 [00:00<?, ?it/s]"
      ]
     },
     "metadata": {},
     "output_type": "display_data"
    },
    {
     "data": {
      "application/vnd.jupyter.widget-view+json": {
       "model_id": "",
       "version_major": 2,
       "version_minor": 0
      },
      "text/plain": [
       "I_d Loop:   0%|          | 0/3 [00:00<?, ?it/s]"
      ]
     },
     "metadata": {},
     "output_type": "display_data"
    },
    {
     "data": {
      "application/vnd.jupyter.widget-view+json": {
       "model_id": "",
       "version_major": 2,
       "version_minor": 0
      },
      "text/plain": [
       "I_d Loop:   0%|          | 0/3 [00:00<?, ?it/s]"
      ]
     },
     "metadata": {},
     "output_type": "display_data"
    },
    {
     "data": {
      "application/vnd.jupyter.widget-view+json": {
       "model_id": "",
       "version_major": 2,
       "version_minor": 0
      },
      "text/plain": [
       "I_d Loop:   0%|          | 0/3 [00:00<?, ?it/s]"
      ]
     },
     "metadata": {},
     "output_type": "display_data"
    },
    {
     "data": {
      "application/vnd.jupyter.widget-view+json": {
       "model_id": "",
       "version_major": 2,
       "version_minor": 0
      },
      "text/plain": [
       "I_d Loop:   0%|          | 0/3 [00:00<?, ?it/s]"
      ]
     },
     "metadata": {},
     "output_type": "display_data"
    },
    {
     "data": {
      "application/vnd.jupyter.widget-view+json": {
       "model_id": "",
       "version_major": 2,
       "version_minor": 0
      },
      "text/plain": [
       "I_d Loop:   0%|          | 0/3 [00:00<?, ?it/s]"
      ]
     },
     "metadata": {},
     "output_type": "display_data"
    },
    {
     "data": {
      "application/vnd.jupyter.widget-view+json": {
       "model_id": "",
       "version_major": 2,
       "version_minor": 0
      },
      "text/plain": [
       "I_d Loop:   0%|          | 0/3 [00:00<?, ?it/s]"
      ]
     },
     "metadata": {},
     "output_type": "display_data"
    },
    {
     "data": {
      "application/vnd.jupyter.widget-view+json": {
       "model_id": "",
       "version_major": 2,
       "version_minor": 0
      },
      "text/plain": [
       "I_d Loop:   0%|          | 0/3 [00:00<?, ?it/s]"
      ]
     },
     "metadata": {},
     "output_type": "display_data"
    },
    {
     "data": {
      "application/vnd.jupyter.widget-view+json": {
       "model_id": "6bc4e685190d40d6a77e4a7fec5c9153",
       "version_major": 2,
       "version_minor": 0
      },
      "text/plain": [
       "I_s Loop:   0%|          | 0/31 [00:00<?, ?it/s]"
      ]
     },
     "metadata": {},
     "output_type": "display_data"
    },
    {
     "data": {
      "application/vnd.jupyter.widget-view+json": {
       "model_id": "",
       "version_major": 2,
       "version_minor": 0
      },
      "text/plain": [
       "I_d Loop:   0%|          | 0/3 [00:00<?, ?it/s]"
      ]
     },
     "metadata": {},
     "output_type": "display_data"
    },
    {
     "data": {
      "application/vnd.jupyter.widget-view+json": {
       "model_id": "",
       "version_major": 2,
       "version_minor": 0
      },
      "text/plain": [
       "I_d Loop:   0%|          | 0/3 [00:00<?, ?it/s]"
      ]
     },
     "metadata": {},
     "output_type": "display_data"
    },
    {
     "data": {
      "application/vnd.jupyter.widget-view+json": {
       "model_id": "",
       "version_major": 2,
       "version_minor": 0
      },
      "text/plain": [
       "I_d Loop:   0%|          | 0/3 [00:00<?, ?it/s]"
      ]
     },
     "metadata": {},
     "output_type": "display_data"
    },
    {
     "data": {
      "application/vnd.jupyter.widget-view+json": {
       "model_id": "",
       "version_major": 2,
       "version_minor": 0
      },
      "text/plain": [
       "I_d Loop:   0%|          | 0/3 [00:00<?, ?it/s]"
      ]
     },
     "metadata": {},
     "output_type": "display_data"
    },
    {
     "data": {
      "application/vnd.jupyter.widget-view+json": {
       "model_id": "",
       "version_major": 2,
       "version_minor": 0
      },
      "text/plain": [
       "I_d Loop:   0%|          | 0/3 [00:00<?, ?it/s]"
      ]
     },
     "metadata": {},
     "output_type": "display_data"
    },
    {
     "data": {
      "application/vnd.jupyter.widget-view+json": {
       "model_id": "",
       "version_major": 2,
       "version_minor": 0
      },
      "text/plain": [
       "I_d Loop:   0%|          | 0/3 [00:00<?, ?it/s]"
      ]
     },
     "metadata": {},
     "output_type": "display_data"
    },
    {
     "data": {
      "application/vnd.jupyter.widget-view+json": {
       "model_id": "",
       "version_major": 2,
       "version_minor": 0
      },
      "text/plain": [
       "I_d Loop:   0%|          | 0/3 [00:00<?, ?it/s]"
      ]
     },
     "metadata": {},
     "output_type": "display_data"
    },
    {
     "data": {
      "application/vnd.jupyter.widget-view+json": {
       "model_id": "",
       "version_major": 2,
       "version_minor": 0
      },
      "text/plain": [
       "I_d Loop:   0%|          | 0/3 [00:00<?, ?it/s]"
      ]
     },
     "metadata": {},
     "output_type": "display_data"
    },
    {
     "data": {
      "application/vnd.jupyter.widget-view+json": {
       "model_id": "",
       "version_major": 2,
       "version_minor": 0
      },
      "text/plain": [
       "I_d Loop:   0%|          | 0/3 [00:00<?, ?it/s]"
      ]
     },
     "metadata": {},
     "output_type": "display_data"
    },
    {
     "data": {
      "application/vnd.jupyter.widget-view+json": {
       "model_id": "",
       "version_major": 2,
       "version_minor": 0
      },
      "text/plain": [
       "I_d Loop:   0%|          | 0/3 [00:00<?, ?it/s]"
      ]
     },
     "metadata": {},
     "output_type": "display_data"
    },
    {
     "data": {
      "application/vnd.jupyter.widget-view+json": {
       "model_id": "",
       "version_major": 2,
       "version_minor": 0
      },
      "text/plain": [
       "I_d Loop:   0%|          | 0/3 [00:00<?, ?it/s]"
      ]
     },
     "metadata": {},
     "output_type": "display_data"
    },
    {
     "data": {
      "application/vnd.jupyter.widget-view+json": {
       "model_id": "",
       "version_major": 2,
       "version_minor": 0
      },
      "text/plain": [
       "I_d Loop:   0%|          | 0/3 [00:00<?, ?it/s]"
      ]
     },
     "metadata": {},
     "output_type": "display_data"
    },
    {
     "data": {
      "application/vnd.jupyter.widget-view+json": {
       "model_id": "",
       "version_major": 2,
       "version_minor": 0
      },
      "text/plain": [
       "I_d Loop:   0%|          | 0/3 [00:00<?, ?it/s]"
      ]
     },
     "metadata": {},
     "output_type": "display_data"
    },
    {
     "data": {
      "application/vnd.jupyter.widget-view+json": {
       "model_id": "",
       "version_major": 2,
       "version_minor": 0
      },
      "text/plain": [
       "I_d Loop:   0%|          | 0/3 [00:00<?, ?it/s]"
      ]
     },
     "metadata": {},
     "output_type": "display_data"
    },
    {
     "data": {
      "application/vnd.jupyter.widget-view+json": {
       "model_id": "",
       "version_major": 2,
       "version_minor": 0
      },
      "text/plain": [
       "I_d Loop:   0%|          | 0/3 [00:00<?, ?it/s]"
      ]
     },
     "metadata": {},
     "output_type": "display_data"
    },
    {
     "data": {
      "application/vnd.jupyter.widget-view+json": {
       "model_id": "",
       "version_major": 2,
       "version_minor": 0
      },
      "text/plain": [
       "I_d Loop:   0%|          | 0/3 [00:00<?, ?it/s]"
      ]
     },
     "metadata": {},
     "output_type": "display_data"
    },
    {
     "data": {
      "application/vnd.jupyter.widget-view+json": {
       "model_id": "",
       "version_major": 2,
       "version_minor": 0
      },
      "text/plain": [
       "I_d Loop:   0%|          | 0/3 [00:00<?, ?it/s]"
      ]
     },
     "metadata": {},
     "output_type": "display_data"
    },
    {
     "data": {
      "application/vnd.jupyter.widget-view+json": {
       "model_id": "",
       "version_major": 2,
       "version_minor": 0
      },
      "text/plain": [
       "I_d Loop:   0%|          | 0/3 [00:00<?, ?it/s]"
      ]
     },
     "metadata": {},
     "output_type": "display_data"
    },
    {
     "data": {
      "application/vnd.jupyter.widget-view+json": {
       "model_id": "",
       "version_major": 2,
       "version_minor": 0
      },
      "text/plain": [
       "I_d Loop:   0%|          | 0/3 [00:00<?, ?it/s]"
      ]
     },
     "metadata": {},
     "output_type": "display_data"
    },
    {
     "data": {
      "application/vnd.jupyter.widget-view+json": {
       "model_id": "",
       "version_major": 2,
       "version_minor": 0
      },
      "text/plain": [
       "I_d Loop:   0%|          | 0/3 [00:00<?, ?it/s]"
      ]
     },
     "metadata": {},
     "output_type": "display_data"
    },
    {
     "data": {
      "application/vnd.jupyter.widget-view+json": {
       "model_id": "",
       "version_major": 2,
       "version_minor": 0
      },
      "text/plain": [
       "I_d Loop:   0%|          | 0/3 [00:00<?, ?it/s]"
      ]
     },
     "metadata": {},
     "output_type": "display_data"
    },
    {
     "data": {
      "application/vnd.jupyter.widget-view+json": {
       "model_id": "",
       "version_major": 2,
       "version_minor": 0
      },
      "text/plain": [
       "I_d Loop:   0%|          | 0/3 [00:00<?, ?it/s]"
      ]
     },
     "metadata": {},
     "output_type": "display_data"
    },
    {
     "data": {
      "application/vnd.jupyter.widget-view+json": {
       "model_id": "",
       "version_major": 2,
       "version_minor": 0
      },
      "text/plain": [
       "I_d Loop:   0%|          | 0/3 [00:00<?, ?it/s]"
      ]
     },
     "metadata": {},
     "output_type": "display_data"
    },
    {
     "data": {
      "application/vnd.jupyter.widget-view+json": {
       "model_id": "",
       "version_major": 2,
       "version_minor": 0
      },
      "text/plain": [
       "I_d Loop:   0%|          | 0/3 [00:00<?, ?it/s]"
      ]
     },
     "metadata": {},
     "output_type": "display_data"
    },
    {
     "data": {
      "application/vnd.jupyter.widget-view+json": {
       "model_id": "",
       "version_major": 2,
       "version_minor": 0
      },
      "text/plain": [
       "I_d Loop:   0%|          | 0/3 [00:00<?, ?it/s]"
      ]
     },
     "metadata": {},
     "output_type": "display_data"
    },
    {
     "data": {
      "application/vnd.jupyter.widget-view+json": {
       "model_id": "",
       "version_major": 2,
       "version_minor": 0
      },
      "text/plain": [
       "I_d Loop:   0%|          | 0/3 [00:00<?, ?it/s]"
      ]
     },
     "metadata": {},
     "output_type": "display_data"
    },
    {
     "data": {
      "application/vnd.jupyter.widget-view+json": {
       "model_id": "",
       "version_major": 2,
       "version_minor": 0
      },
      "text/plain": [
       "I_d Loop:   0%|          | 0/3 [00:00<?, ?it/s]"
      ]
     },
     "metadata": {},
     "output_type": "display_data"
    },
    {
     "data": {
      "application/vnd.jupyter.widget-view+json": {
       "model_id": "",
       "version_major": 2,
       "version_minor": 0
      },
      "text/plain": [
       "I_d Loop:   0%|          | 0/3 [00:00<?, ?it/s]"
      ]
     },
     "metadata": {},
     "output_type": "display_data"
    },
    {
     "data": {
      "application/vnd.jupyter.widget-view+json": {
       "model_id": "",
       "version_major": 2,
       "version_minor": 0
      },
      "text/plain": [
       "I_d Loop:   0%|          | 0/3 [00:00<?, ?it/s]"
      ]
     },
     "metadata": {},
     "output_type": "display_data"
    },
    {
     "data": {
      "application/vnd.jupyter.widget-view+json": {
       "model_id": "",
       "version_major": 2,
       "version_minor": 0
      },
      "text/plain": [
       "I_d Loop:   0%|          | 0/3 [00:00<?, ?it/s]"
      ]
     },
     "metadata": {},
     "output_type": "display_data"
    },
    {
     "data": {
      "application/vnd.jupyter.widget-view+json": {
       "model_id": "",
       "version_major": 2,
       "version_minor": 0
      },
      "text/plain": [
       "I_d Loop:   0%|          | 0/3 [00:00<?, ?it/s]"
      ]
     },
     "metadata": {},
     "output_type": "display_data"
    }
   ],
   "source": [
    "I_d_vec = np.linspace(0, 5, 3) # currents to run analysis over\n",
    "I_s_vec = np.linspace(0, 5, 31)\n",
    "\n",
    "\n",
    "A_theory_all = []\n",
    "cv_theory_all = []\n",
    "params = default_params()\n",
    "\n",
    "\n",
    "uniform_config = NeuronModelConfig(params=params, input_potential=input_potential_uniform, rate_dendrite_integral=rate_dendrite_integral, \n",
    "                             initial_rate_soma=initial_rate_soma, rate_soma=rate_soma, \n",
    "                                refractory_kernel=refractory_kernel_square, dendritic_kernel=dendritic_kernel_square)\n",
    "\n",
    "A_theory, cv_theory = ensemble_response_theory(I_s_vec=I_s_vec, I_d_vec=I_d_vec, \n",
    "                                               integrate_survivor=integrate_survivor_one_dendritic_spike, \n",
    "                                               config=uniform_config)\n",
    "\n",
    "params['D'] = 0\n",
    "uniform_passive_config = NeuronModelConfig(params=params, input_potential=input_potential_uniform, rate_dendrite_integral=rate_dendrite_integral, \n",
    "                             initial_rate_soma=initial_rate_soma, rate_soma=rate_soma, \n",
    "                                refractory_kernel=refractory_kernel_square, dendritic_kernel=dendritic_kernel_square)\n",
    "\n",
    "A_theory_passive, cv_theory_passive = ensemble_response_theory(I_s_vec=I_s_vec, I_d_vec=I_d_vec, \n",
    "                                               integrate_survivor=integrate_survivor_one_dendritic_spike, \n",
    "                                               config=uniform_passive_config)"
   ]
  },
  {
   "cell_type": "code",
   "execution_count": 14,
   "id": "0856692f",
   "metadata": {},
   "outputs": [],
   "source": [
    "def plot_ensemble_response_theory(A, A_passive, cv, cv_passive, I_s_vec, I_d_vec):\n",
    "    \n",
    "    plt.figure(figsize=(6,2))\n",
    "\n",
    "    plt.subplot(1,2,1)\n",
    "    for i, I_d in enumerate(I_d_vec):\n",
    "        plt.plot(I_s_vec, A[i, :], label='$I_{d}$='+f'{I_d}')\n",
    "    \n",
    "        plt.plot(I_s_vec, A_passive[i,:], linestyle='--', color='k')\n",
    "\n",
    "    plt.xlabel('$I_{s}$')\n",
    "    plt.ylabel('$A_{\\infty}$ [Hz]')\n",
    "    sns.despine()\n",
    "    plt.legend(frameon=False)\n",
    "    \n",
    "    #plt.yscale('log')\n",
    "\n",
    "    plt.subplot(1,2,2)\n",
    "    for i, I_d in enumerate(I_d_vec):\n",
    "        plt.plot(I_s_vec, cv[i, :], label='$I_{d}$='+f'{I_d}')\n",
    "        plt.plot(I_s_vec, cv_passive[i,:], linestyle='--', color='k')\n",
    "        \n",
    "    plt.ylim([0.5, 1.5])\n",
    "    plt.yticks([0.5, 1, 1.5])\n",
    "\n",
    "    plt.xlabel('$I_{s}$')\n",
    "    plt.ylabel('$C_{v}$')\n",
    "    sns.despine()\n",
    "    \n",
    "    plt.tight_layout()\n",
    "    \n",
    "    return"
   ]
  },
  {
   "cell_type": "code",
   "execution_count": 15,
   "id": "b39e691b",
   "metadata": {},
   "outputs": [
    {
     "data": {
      "image/png": "[encoded data removed]",
      "text/plain": [
       "<Figure size 600x200 with 2 Axes>"
      ]
     },
     "metadata": {},
     "output_type": "display_data"
    }
   ],
   "source": [
    "plot_ensemble_response_theory(A=A_theory, cv=cv_theory, A_passive=A_theory_passive, cv_passive=cv_theory_passive, \n",
    "                              I_s_vec=I_s_vec, I_d_vec=I_d_vec)"
   ]
  },
  {
   "cell_type": "markdown",
   "id": "b61e4540",
   "metadata": {},
   "source": [
    "# RNN model extension"
   ]
  },
  {
   "cell_type": "code",
   "execution_count": 16,
   "id": "29f1d878",
   "metadata": {},
   "outputs": [],
   "source": [
    "def rate_dendrite_integral_RNN(t, t_hat, h, dx, config):\n",
    "    \"\"\"\n",
    "    Integral of the dendritic hazard rate over space. Non-spatial case.\n",
    "\n",
    "    Args\n",
    "    ----\n",
    "        t (TYPE): DESCRIPTION.\n",
    "        t_hat (TYPE): DESCRIPTION.\n",
    "        params (TYPE): DESCRIPTION.\n",
    "\n",
    "    Return\n",
    "    ------\n",
    "        continuous_part (TYPE): DESCRIPTION.\n",
    "        continuous_part_vec (TYPE): DESCRIPTION.\n",
    "        discrete_part (TYPE): DESCRIPTION.\n",
    "\n",
    "    \"\"\"\n",
    "    params = config.params\n",
    "    \n",
    "    lambda_d = params['lambda_d']\n",
    "    L = params['L']\n",
    "    v_B = params['v_B']\n",
    "    B = params['B']    \n",
    "    \n",
    "    continuous_part  = lambda_d*np.sum(relu(h), axis=1)*dx\n",
    "    discrete_part = lambda_d*B*np.heaviside(L/v_B - (t-t_hat), 1)\n",
    "    continuous_part_vec = lambda_d*relu(h)\n",
    "    \n",
    "    return continuous_part, continuous_part_vec, discrete_part"
   ]
  },
  {
   "cell_type": "code",
   "execution_count": 17,
   "id": "0f3e630a",
   "metadata": {},
   "outputs": [],
   "source": [
    "def monte_carlo_one_dendritic_spike_RNN(W, nb_steps, nb_neurons, dt, config):\n",
    "    \"\"\"\n",
    "    Monte Carlo sample the two-compartment renewal model.\n",
    "    \n",
    "    Args\n",
    "    ----\n",
    "        nb_steps (TYPE): DESCRIPTION.\n",
    "        dt (TYPE): DESCRIPTION.\n",
    "        params (TYPE): DESCRIPTION.\n",
    "        dendritic_rate (TYPE): DESCRIPTION.\n",
    "\n",
    "    Return\n",
    "    ------\n",
    "        intervals (list): Somatic interspike intervals. \n",
    "        somatic_spike_train (Ndarray): Array of spikes (0's and 1's)\n",
    "        dendritic_spike_train (Ndarray): Array of spikes (0's and 1's)\n",
    "\n",
    "    \"\"\"\n",
    "    \n",
    "    input_potential = config.input_potential\n",
    "    rate_dendrite_integral = config.rate_dendrite_integral\n",
    "    initial_rate_soma = config.initial_rate_soma\n",
    "    rate_soma = config.rate_soma\n",
    "    params = config.params\n",
    "\n",
    "    # define grid of plocations along the dendrite\n",
    "    L = params['L']\n",
    "    v_B = params['v_B']\n",
    "    tau_syn = params['tau_syn']\n",
    "    dx = np.sqrt(3*dt)\n",
    "    x_grid = np.linspace(0, L, int(L/dx)+1)\n",
    "    \n",
    "    # evaluate the input potential along the dendrite\n",
    "    h = input_potential(X=x_grid, config=config)\n",
    "    h_tile = np.tile(h, (nb_neurons, 1))\n",
    "    \n",
    "    somatic_intervals = []\n",
    "    last_s_spike = np.zeros(nb_neurons) \n",
    "    last_d_spike = np.zeros(nb_neurons)\n",
    "    last_d_spike_location = np.zeros(nb_neurons)\n",
    "    \n",
    "    nb_neurons_keep = 500\n",
    "    somatic_spike_train = np.zeros((nb_neurons_keep, nb_steps))\n",
    "\n",
    "    dendrite_alive = np.asarray([True]*nb_neurons)\n",
    "    \n",
    "    u = np.zeros((nb_neurons, len(x_grid)))\n",
    "    u_new = np.zeros((nb_neurons, len(x_grid)))\n",
    "    I = np.zeros(nb_neurons)\n",
    "    K = np.zeros(nb_neurons)\n",
    "    \n",
    "    u_hist = np.zeros((nb_neurons, nb_steps))\n",
    "    \n",
    "    for i in trange(nb_steps):\n",
    "        somatic_spike = np.zeros(nb_neurons)\n",
    "        \n",
    "        u_hist[:, i] = u[:, 0]\n",
    "        \n",
    "        h_total = h_tile + u\n",
    "        \n",
    "        continuous_part, continuous_part_vec, discrete_part = rate_dendrite_integral(t=i*dt, t_hat=last_s_spike*dt, h=h_total, dx=dx, config=config)\n",
    "        prob_d = 1 - np.exp(-(continuous_part+discrete_part)*dt)\n",
    "        \n",
    "        rand_d = np.random.rand(nb_neurons)\n",
    "        d_spike_boolean = (rand_d<=prob_d)\n",
    "        \n",
    "        d_spike_update = np.logical_and(d_spike_boolean, dendrite_alive)\n",
    "        last_d_spike[d_spike_update] = i\n",
    "        dendrite_alive[d_spike_update] = False\n",
    "        \n",
    "                \n",
    "        # 1xnb_neurons size array of rates    \n",
    "        initial_rate_soma_tmp = initial_rate_soma(t=i*dt, t_hat=last_s_spike*dt, h_0=h_total[:,0], config=config)\n",
    "        rate_soma_tmp = rate_soma(t=i*dt, t_p=last_d_spike*dt, t_hat=last_s_spike*dt, h_0=h_total[:,0], config=config)\n",
    "        \n",
    "        prob_s = 1 - np.exp(-rate_soma_tmp*dt)\n",
    "        prob_s[dendrite_alive] = 1 - np.exp(-initial_rate_soma_tmp[dendrite_alive]*dt)\n",
    "    \n",
    "        rand_s = np.random.rand(nb_neurons)\n",
    "       \n",
    "        s_spike_boolean = (rand_s<=prob_s)\n",
    "        \n",
    "        reset_dendrite = np.logical_and(s_spike_boolean, np.logical_not(dendrite_alive))\n",
    "        dendrite_alive[reset_dendrite]=True\n",
    "        \n",
    "        somatic_spike[s_spike_boolean] = 1\n",
    "        somatic_spike_train[s_spike_boolean[:nb_neurons_keep], i] = 1\n",
    "        last_s_spike[s_spike_boolean] = i       \n",
    "        \n",
    "        # update recurrent inputs\n",
    "        K_new = K + -K*dt/tau_syn + somatic_spike/tau_syn/dx\n",
    "        I = np.matmul(W, K)\n",
    "        \n",
    "        u_new[:, 1:-1] = u[:, 1:-1]*(1-dt) + (dt/dx**2)*(u[:, 2:]+u[:, :-2]-2*u[:, 1:-1])\n",
    "        \n",
    "        u_new[:, 1] = u[:, 1]*(1-dt) + (dt/dx**2)*(u[:, 2]+u[:, 0]-2*u[:, 1]) + I*dt\n",
    "        \n",
    "        u_new[:, 0] = u[:, 0]*(1-dt) + (dt/dx**2)*(2*u[:, 1] - 2*u[:, 0])\n",
    "        u_new[:, -1] = u[:, -1]*(1-dt) + (dt/dx**2)*(2*u[:, -2] - 2*u[:, -1]) \n",
    "        \n",
    "        \n",
    "        u = u_new\n",
    "        K = K_new\n",
    "        \n",
    "\n",
    "    return somatic_spike_train, u_hist"
   ]
  },
  {
   "cell_type": "code",
   "execution_count": 18,
   "id": "ca737ae7",
   "metadata": {},
   "outputs": [],
   "source": [
    "def exp_convolve(A, dt, tau_conv):\n",
    "    \n",
    "    nb_steps = len(A)\n",
    "    K = np.zeros(nb_steps)\n",
    "    for i in range(nb_steps-1):\n",
    "        \n",
    "        K[i+1] = K[i] + -K[i]*dt/tau_conv + A[i]/tau_conv\n",
    "        \n",
    "        \n",
    "    return K"
   ]
  },
  {
   "cell_type": "code",
   "execution_count": 19,
   "id": "4b633598",
   "metadata": {},
   "outputs": [],
   "source": [
    "def ensemble_response_RNN(I_s_RNN):\n",
    "    \n",
    "    nb_neurons = 500\n",
    "    p = 0.2\n",
    "    J_0 = -1\n",
    "    w_0 = J_0 /(nb_neurons*p)\n",
    "\n",
    "    nb_steps = int(1e6)\n",
    "    dt = 0.001\n",
    "    \n",
    "    W = np.random.binomial(n=1, p=p, size=(nb_neurons, nb_neurons))*w_0\n",
    "    \n",
    "    params = default_params()\n",
    "    params['I_d'] = 0\n",
    "    \n",
    "    A = np.zeros(len(I_d_vec))\n",
    "    cv = np.zeros(len(I_d_vec))\n",
    "    somatic_spike_trains = []\n",
    "\n",
    "    for i, I_s in enumerate(I_s_RNN):\n",
    "        params['I_s'] = I_s\n",
    "\n",
    "\n",
    "        RNN_config = NeuronModelConfig(params=params, input_potential=input_potential_uniform, rate_dendrite_integral=rate_dendrite_integral_RNN, \n",
    "                             initial_rate_soma=initial_rate_soma, rate_soma=rate_soma, \n",
    "                                refractory_kernel=refractory_kernel_square, dendritic_kernel=dendritic_kernel_square)\n",
    "\n",
    "        somatic_spike_train, _ = monte_carlo_one_dendritic_spike_RNN(W=W, nb_steps=nb_steps, nb_neurons=nb_neurons, dt=dt, \n",
    "                                                       config=RNN_config)\n",
    "    \n",
    "        intervals, As, cvs = calcualte_statistics_monte_carlo(spike_train=somatic_spike_train[:, 5000:], dt=dt, config=RNN_config)\n",
    "                  \n",
    "        A[i] = np.nanmean(As)\n",
    "        cv[i] = np.nanmean(cvs)\n",
    "        somatic_spike_trains.append(somatic_spike_train)\n",
    "    \n",
    "    return A, cv, somatic_spike_trains"
   ]
  },
  {
   "cell_type": "code",
   "execution_count": 20,
   "id": "2856132c",
   "metadata": {},
   "outputs": [
    {
     "name": "stderr",
     "output_type": "stream",
     "text": [
      "100%|██████████| 1000000/1000000 [23:34<00:00, 706.94it/s]\n",
      "100%|██████████| 1000000/1000000 [27:40<00:00, 602.19it/s]\n",
      "100%|██████████| 1000000/1000000 [24:10<00:00, 689.43it/s]\n"
     ]
    }
   ],
   "source": [
    "I_s_RNN = np.asarray([2, 3, 4,])\n",
    "A_RNN, cv_RNN, somatic_spike_trains_RNN = ensemble_response_RNN(I_s_RNN=I_s_RNN)"
   ]
  },
  {
   "cell_type": "code",
   "execution_count": 21,
   "id": "58d39155",
   "metadata": {},
   "outputs": [],
   "source": [
    "def plot_ensemble_response_theory_RNN(A_theory, cv_theory, A_RNN, cv_RNN, I_s_vec, I_s_RNN):\n",
    "    \n",
    "    params = default_params()\n",
    "    tau = params['tau']\n",
    "    J_0 = -1\n",
    "\n",
    "    \n",
    "    \n",
    "    color = 'tab:blue'\n",
    "    alpha = [1, 0.75, 0.5]\n",
    "    plt.figure(figsize=(5.5,1.5))\n",
    "\n",
    "    plt.subplot(1,3,1)\n",
    "    I_s_vec_theory = np.linspace(0, 5, 31)\n",
    "    A_max = 75\n",
    "    for I_s in I_s_RNN: \n",
    "\n",
    "        A_0 = (I_s_vec_theory-I_s)/(J_0)\n",
    "        A_0 = A_0/tau\n",
    "        indx = A_0<A_max\n",
    "        \n",
    "        plt.plot(I_s_vec_theory[indx], A_0[indx], color='k')\n",
    "\n",
    "    plt.plot(I_s_vec, A_theory[0, :], color=color, alpha=alpha[0])\n",
    "    \n",
    "    for i, A in enumerate(A_RNN):\n",
    "        plt.hlines(A, 0, 5, color='tab:red', alpha=alpha[i], label='$I_{s}$='+f'{I_s_RNN[i]}')\n",
    "         \n",
    "\n",
    "    \n",
    "\n",
    "    plt.xlabel('$I_{s}$')\n",
    "    plt.ylabel('Frequency [Hz]')\n",
    "    sns.despine()\n",
    "    plt.ylim([0, 150])\n",
    "    plt.yticks([0, 50, 100, 150])\n",
    "    plt.xlim([0, 5])\n",
    "    plt.xticks([0, 2.5, 5])\n",
    "    plt.legend(frameon=False)\n",
    "\n",
    "    plt.subplot(1,3,2)\n",
    "    \n",
    "    nb_steps = int(1e6)\n",
    "    dt = 0.001\n",
    "    \n",
    "    for i, I_d in enumerate(I_d_vec):\n",
    "        A = np.mean(somatic_spike_trains_RNN[i], axis=0)/tau\n",
    "\n",
    "        A_filt = exp_convolve(A=A, dt=dt, tau_conv=.5)\n",
    "        A_filt = A_filt[int(len(A_filt)/2):]\n",
    "\n",
    "        time = np.arange(nb_steps)*dt*tau\n",
    "        time = time[int(len(time)/2):]\n",
    "        plt.plot((time-5)*1e3, A_filt, color='tab:blue')\n",
    "\n",
    "        plt.hlines(A_RNN[i], 0, 500, color='tab:red', alpha=alpha[i])\n",
    "\n",
    "    plt.ylim([0, 150])\n",
    "    plt.yticks([0, 50, 100, 150])\n",
    "    plt.xlim([0, 500])\n",
    "    sns.despine()\n",
    "\n",
    "    plt.xlabel('Time [ms]')\n",
    "    plt.ylabel('Frequency [Hz]')\n",
    "    \n",
    "    plt.subplot(1,3,3)\n",
    "    \n",
    "    print()\n",
    "    \n",
    "\n",
    "    plt.plot(A_theory[0,:], cv_theory[0, :], label='$I_{d}$='+f'{0}', color=color, alpha=alpha[0])\n",
    "    \n",
    "    for i, cv in enumerate(cv_RNN):\n",
    "        plt.hlines(cv, 0, 150, color='tab:red', alpha=alpha[i])\n",
    "        \n",
    "    for i, A in enumerate(A_RNN):\n",
    "        plt.vlines(A, 0.5, 1.5, color='tab:red', alpha=alpha[i])\n",
    "        \n",
    "        \n",
    "    plt.ylim([0.5, 1.5])\n",
    "    plt.yticks([0.5, 1, 1.5])\n",
    "    plt.xlim([0, 150])\n",
    "    plt.xticks([0, 50, 100, 150])\n",
    "\n",
    "    plt.xlabel('Frequency [Hz]')\n",
    "    plt.ylabel('$C_{v}$')\n",
    "    sns.despine()\n",
    "    \n",
    "    plt.tight_layout()\n",
    "    \n",
    "    plt.savefig('../results/RNN.svg')\n",
    "    \n",
    "    return"
   ]
  },
  {
   "cell_type": "code",
   "execution_count": 22,
   "id": "82234c62",
   "metadata": {},
   "outputs": [
    {
     "name": "stdout",
     "output_type": "stream",
     "text": [
      "\n"
     ]
    },
    {
     "data": {
      "image/png": "[encoded data removed]",
      "text/plain": [
       "<Figure size 550x150 with 3 Axes>"
      ]
     },
     "metadata": {},
     "output_type": "display_data"
    }
   ],
   "source": [
    "plot_ensemble_response_theory_RNN(A_theory=A_theory, cv_theory=cv_theory, A_RNN=A_RNN, cv_RNN=cv_RNN, I_s_vec=I_s_vec, I_s_RNN=I_s_RNN)"
   ]
  }
 ],
 "metadata": {
  "kernelspec": {
   "display_name": "Python 3 (ipykernel)",
   "language": "python",
   "name": "python3"
  },
  "language_info": {
   "codemirror_mode": {
    "name": "ipython",
    "version": 3
   },
   "file_extension": ".py",
   "mimetype": "text/x-python",
   "name": "python",
   "nbconvert_exporter": "python",
   "pygments_lexer": "ipython3",
   "version": "3.8.11"
  }
 },
 "nbformat": 4,
 "nbformat_minor": 5
}
